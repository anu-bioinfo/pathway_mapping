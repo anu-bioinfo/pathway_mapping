{
 "cells": [
  {
   "cell_type": "markdown",
   "metadata": {},
   "source": [
    "# Glycolysis analysis"
   ]
  },
  {
   "cell_type": "markdown",
   "metadata": {},
   "source": [
    "##Import python libraries"
   ]
  },
  {
   "cell_type": "code",
   "execution_count": 1,
   "metadata": {
    "collapsed": false
   },
   "outputs": [
    {
     "name": "stdout",
     "output_type": "stream",
     "text": [
      "Populating the interactive namespace from numpy and matplotlib\n"
     ]
    }
   ],
   "source": [
    "%pylab inline\n",
    "\n",
    "import sys\n",
    "sys.path.append('/trombone1/home/scalhoun/bin/repo')\n",
    "from analyze_test import pathens\n",
    "from analyze_test import pathstring_to_table\n",
    "import numpy as np\n",
    "from IPython.display import HTML"
   ]
  },
  {
   "cell_type": "markdown",
   "metadata": {},
   "source": [
    "##Define file locations, input enzymes/ligands, and true pathway"
   ]
  },
  {
   "cell_type": "code",
   "execution_count": 2,
   "metadata": {
    "collapsed": false
   },
   "outputs": [],
   "source": [
    "datafile = './data/gly_data.h5'\n",
    "picklefile = './output/gly.pickle'\n",
    "enzs = ['1', '2', '3', '4', '5', '6', '7', '8', '9', '10']\n",
    "ligands = ['C00031', 'C00092', 'C00085', 'C00354', 'C00111', 'C00118', 'C00236', 'C00197', 'C00631', 'C00074', 'C00022']"
   ]
  },
  {
   "cell_type": "markdown",
   "metadata": {},
   "source": [
    "##Load the pathway models from the output pickle file and data"
   ]
  },
  {
   "cell_type": "code",
   "execution_count": 3,
   "metadata": {
    "collapsed": false
   },
   "outputs": [
    {
     "name": "stdout",
     "output_type": "stream",
     "text": [
      "Number of unique paths: 2169\n",
      "Number of clusters: 4\n"
     ]
    }
   ],
   "source": [
    "pE = pathens(datafile=datafile)\n",
    "pE.set_all_enzymes(enzs)\n",
    "pE.set_true_path(enzymelist=enzs, ligandlist=ligands)\n",
    "pE.load_data_from_analysis_pickle(picklefile)\n",
    "pE.make_position_matrices()\n",
    "print 'Number of unique paths: %d' % len(pE.uniqpathstrs)\n",
    "print 'Number of clusters: %d' % np.max(pE.flatclusters)"
   ]
  },
  {
   "cell_type": "markdown",
   "metadata": {},
   "source": [
    "##Find the rank of the pathwya model that matches the true pathway"
   ]
  },
  {
   "cell_type": "code",
   "execution_count": 4,
   "metadata": {
    "collapsed": false
   },
   "outputs": [
    {
     "name": "stdout",
     "output_type": "stream",
     "text": [
      "Rank of true path: 1\n",
      "C00031 -> 1 -> C00092 -> 2 -> C00085 -> 3 -> C00354 -> 4 -> C00111 -> 5 -> C00118 -> 6 -> C00236 -> 7 -> C00197 -> 8 -> C00631 -> 9 -> C00074 -> 10 -> C00022\n"
     ]
    }
   ],
   "source": [
    "score = pE.np_path_array['obj'][pE.np_path_array['strrepr'] == pE.true_path]\n",
    "print 'Rank of true path: %d' % (np.sum(pE.np_path_array['obj'] > score) + 1)\n",
    "print pE.true_path"
   ]
  },
  {
   "cell_type": "markdown",
   "metadata": {},
   "source": [
    "##Entropy by position"
   ]
  },
  {
   "cell_type": "code",
   "execution_count": 5,
   "metadata": {
    "collapsed": false
   },
   "outputs": [
    {
     "name": "stdout",
     "output_type": "stream",
     "text": [
      "Mean Entropy: 0.771\n",
      "Mean Interaction Weight: 0.820\n",
      "Mean Ranks over Position: 1.000\n",
      "  Components appearing at position: 21.0\n"
     ]
    }
   ],
   "source": [
    "pE.evaluate_accuracy_precision()"
   ]
  },
  {
   "cell_type": "markdown",
   "metadata": {},
   "source": [
    "##Rank of substrate and product to their corresponding enzyme"
   ]
  },
  {
   "cell_type": "code",
   "execution_count": 6,
   "metadata": {
    "collapsed": false
   },
   "outputs": [
    {
     "data": {
      "text/html": [
       "<table><tr>\n",
       "                        <th>Enzyme</th>\n",
       "                        <th>Substrate rank from individual docking run</th>\n",
       "                        <th>Product rank from individual docking run</th>\n",
       "                        <th>Substrate rank by integrated approach</th>\n",
       "                        <th>Product rank by integrated approach</th>\n",
       "                        <th>Interaction rank by integrated approach</th>\n",
       "                        </tr><tr><td>1</td>\n",
       "                                 <td>37</td>\n",
       "                                 <td>1354</td>\n",
       "                                 <td>1</td>\n",
       "                                 <td>1</td>\n",
       "                                 <td>3</td>\n",
       "                             </tr><tr><td>2</td>\n",
       "                                 <td>108</td>\n",
       "                                 <td>77</td>\n",
       "                                 <td>1</td>\n",
       "                                 <td>1</td>\n",
       "                                 <td>2</td>\n",
       "                             </tr><tr><td>3</td>\n",
       "                                 <td>18</td>\n",
       "                                 <td>30</td>\n",
       "                                 <td>1</td>\n",
       "                                 <td>1</td>\n",
       "                                 <td>1</td>\n",
       "                             </tr><tr><td>4</td>\n",
       "                                 <td>183</td>\n",
       "                                 <td>158</td>\n",
       "                                 <td>1</td>\n",
       "                                 <td>1</td>\n",
       "                                 <td>2</td>\n",
       "                             </tr><tr><td>5</td>\n",
       "                                 <td>12</td>\n",
       "                                 <td>130</td>\n",
       "                                 <td>1</td>\n",
       "                                 <td>1</td>\n",
       "                                 <td>1</td>\n",
       "                             </tr><tr><td>6</td>\n",
       "                                 <td>865</td>\n",
       "                                 <td>2918</td>\n",
       "                                 <td>1</td>\n",
       "                                 <td>1</td>\n",
       "                                 <td>2</td>\n",
       "                             </tr><tr><td>7</td>\n",
       "                                 <td>71</td>\n",
       "                                 <td>74</td>\n",
       "                                 <td>1</td>\n",
       "                                 <td>1</td>\n",
       "                                 <td>2</td>\n",
       "                             </tr><tr><td>8</td>\n",
       "                                 <td>5</td>\n",
       "                                 <td>2</td>\n",
       "                                 <td>1</td>\n",
       "                                 <td>1</td>\n",
       "                                 <td>1</td>\n",
       "                             </tr><tr><td>9</td>\n",
       "                                 <td>27</td>\n",
       "                                 <td>76</td>\n",
       "                                 <td>1</td>\n",
       "                                 <td>1</td>\n",
       "                                 <td>1</td>\n",
       "                             </tr><tr><td>10</td>\n",
       "                                 <td>129</td>\n",
       "                                 <td>898</td>\n",
       "                                 <td>1</td>\n",
       "                                 <td>1</td>\n",
       "                                 <td>1</td>\n",
       "                             </tr></table>"
      ],
      "text/plain": [
       "<IPython.core.display.HTML object>"
      ]
     },
     "execution_count": 6,
     "metadata": {},
     "output_type": "execute_result"
    }
   ],
   "source": [
    "HTML(pE.ligand_rankings_html())"
   ]
  },
  {
   "cell_type": "markdown",
   "metadata": {},
   "source": [
    "##Frequency of enzyme occurring in pathway model ensemble at every position"
   ]
  },
  {
   "cell_type": "code",
   "execution_count": 7,
   "metadata": {
    "collapsed": false
   },
   "outputs": [
    {
     "data": {
      "text/plain": [
       "position\n",
       "1           90.917473\n",
       "2           91.055786\n",
       "3           89.903181\n",
       "4           90.179806\n",
       "5           89.396035\n",
       "6           89.396035\n",
       "7           89.211618\n",
       "8           89.211618\n",
       "9           89.396035\n",
       "10          89.396035\n",
       "dtype: float64"
      ]
     },
     "execution_count": 7,
     "metadata": {},
     "output_type": "execute_result"
    }
   ],
   "source": [
    "pE.calculate_frequency_by_position()"
   ]
  },
  {
   "cell_type": "markdown",
   "metadata": {},
   "source": [
    "##Accuracy by position"
   ]
  },
  {
   "cell_type": "code",
   "execution_count": 14,
   "metadata": {
    "collapsed": false
   },
   "outputs": [
    {
     "data": {
      "text/html": [
       "<table class=\"results\"><tr><th class=\"correct\" colspan=\"23\">Correct Pathway</th></tr><tr><td class=\"correct\"><div class=\"container\"><div id=\"C00031\" class=\"ligand\"></div>\n",
       "                                 <img src='http://www.genome.jp/Fig/compound/C00031.gif' alt='C00031'/></div>\n",
       "                                 </td><td class=\"correct\" id=\"E1\"><div class=\"enzyme\">1</div></td><td class=\"correct\"><div class=\"container\"><div id=\"C00092\" class=\"ligand\"></div>\n",
       "                                 <img src='http://www.genome.jp/Fig/compound/C00092.gif' alt='C00092'/></div>\n",
       "                                 </td><td class=\"correct\" id=\"E2\"><div class=\"enzyme\">2</div></td><td class=\"correct\"><div class=\"container\"><div id=\"C00085\" class=\"ligand\"></div>\n",
       "                                 <img src='http://www.genome.jp/Fig/compound/C00085.gif' alt='C00085'/></div>\n",
       "                                 </td><td class=\"correct\" id=\"E3\"><div class=\"enzyme\">3</div></td><td class=\"correct\"><div class=\"container\"><div id=\"C00354\" class=\"ligand\"></div>\n",
       "                                 <img src='http://www.genome.jp/Fig/compound/C00354.gif' alt='C00354'/></div>\n",
       "                                 </td><td class=\"correct\" id=\"E4\"><div class=\"enzyme\">4</div></td><td class=\"correct\"><div class=\"container\"><div id=\"C00111\" class=\"ligand\"></div>\n",
       "                                 <img src='http://www.genome.jp/Fig/compound/C00111.gif' alt='C00111'/></div>\n",
       "                                 </td><td class=\"correct\" id=\"E5\"><div class=\"enzyme\">5</div></td><td class=\"correct\"><div class=\"container\"><div id=\"C00118\" class=\"ligand\"></div>\n",
       "                                 <img src='http://www.genome.jp/Fig/compound/C00118.gif' alt='C00118'/></div>\n",
       "                                 </td><td class=\"correct\" id=\"E6\"><div class=\"enzyme\">6</div></td><td class=\"correct\"><div class=\"container\"><div id=\"C00236\" class=\"ligand\"></div>\n",
       "                                 <img src='http://www.genome.jp/Fig/compound/C00236.gif' alt='C00236'/></div>\n",
       "                                 </td><td class=\"correct\" id=\"E7\"><div class=\"enzyme\">7</div></td><td class=\"correct\"><div class=\"container\"><div id=\"C00197\" class=\"ligand\"></div>\n",
       "                                 <img src='http://www.genome.jp/Fig/compound/C00197.gif' alt='C00197'/></div>\n",
       "                                 </td><td class=\"correct\" id=\"E8\"><div class=\"enzyme\">8</div></td><td class=\"correct\"><div class=\"container\"><div id=\"C00631\" class=\"ligand\"></div>\n",
       "                                 <img src='http://www.genome.jp/Fig/compound/C00631.gif' alt='C00631'/></div>\n",
       "                                 </td><td class=\"correct\" id=\"E9\"><div class=\"enzyme\">9</div></td><td class=\"correct\"><div class=\"container\"><div id=\"C00074\" class=\"ligand\"></div>\n",
       "                                 <img src='http://www.genome.jp/Fig/compound/C00074.gif' alt='C00074'/></div>\n",
       "                                 </td><td class=\"correct\" id=\"E10\"><div class=\"enzyme\">10</div></td><td class=\"correct\"><div class=\"container\"><div id=\"C00022\" class=\"ligand\"></div>\n",
       "                                 <img src='http://www.genome.jp/Fig/compound/C00022.gif' alt='C00022'/></div>\n",
       "                                 </td></tr><th colspan=\"23\">Predicted Pathways</th><tr><td><div class=\"container match\"><div class=\"ligand\" id=\"C00031\"></div><img src='http://www.genome.jp/Fig/compound/C00031.gif' alt='C00031'/></div></td><td><div class=\"enzyme match\" id=\"E1\">1</div></td><td><div class=\"container match\"><div class=\"ligand\" id=\"C00092\"></div><img src='http://www.genome.jp/Fig/compound/C00092.gif' alt='C00092'/></div></td><td><div class=\"enzyme match\" id=\"E2\">2</div></td><td><div class=\"container match\"><div class=\"ligand\" id=\"C00085\"></div><img src='http://www.genome.jp/Fig/compound/C00085.gif' alt='C00085'/></div></td><td><div class=\"enzyme match\" id=\"E3\">3</div></td><td><div class=\"container match\"><div class=\"ligand\" id=\"C00354\"></div><img src='http://www.genome.jp/Fig/compound/C00354.gif' alt='C00354'/></div></td><td><div class=\"enzyme match\" id=\"E4\">4</div></td><td><div class=\"container match\"><div class=\"ligand\" id=\"C00111\"></div><img src='http://www.genome.jp/Fig/compound/C00111.gif' alt='C00111'/></div></td><td><div class=\"enzyme match\" id=\"E5\">5</div></td><td><div class=\"container match\"><div class=\"ligand\" id=\"C00118\"></div><img src='http://www.genome.jp/Fig/compound/C00118.gif' alt='C00118'/></div></td><td><div class=\"enzyme match\" id=\"E6\">6</div></td><td><div class=\"container match\"><div class=\"ligand\" id=\"C00236\"></div><img src='http://www.genome.jp/Fig/compound/C00236.gif' alt='C00236'/></div></td><td><div class=\"enzyme match\" id=\"E7\">7</div></td><td><div class=\"container match\"><div class=\"ligand\" id=\"C00197\"></div><img src='http://www.genome.jp/Fig/compound/C00197.gif' alt='C00197'/></div></td><td><div class=\"enzyme match\" id=\"E8\">8</div></td><td><div class=\"container match\"><div class=\"ligand\" id=\"C00631\"></div><img src='http://www.genome.jp/Fig/compound/C00631.gif' alt='C00631'/></div></td><td><div class=\"enzyme match\" id=\"E9\">9</div></td><td><div class=\"container match\"><div class=\"ligand\" id=\"C00074\"></div><img src='http://www.genome.jp/Fig/compound/C00074.gif' alt='C00074'/></div></td><td><div class=\"enzyme match\" id=\"E10\">10</div></td><td><div class=\"container match\"><div class=\"ligand\" id=\"C00022\"></div><img src='http://www.genome.jp/Fig/compound/C00022.gif' alt='C00022'/></div></td></tr><tr><td><div class=\"container\"><div id=\"C00159\" class=\"ligand\"></div><img src='http://www.genome.jp/Fig/compound/C00159.gif' alt='C00159'/></div></td><td><div class=\"enzyme\">5</div></td><td><div class=\"container\"><div id=\"C00275\" class=\"ligand\"></div><img src='http://www.genome.jp/Fig/compound/C00275.gif' alt='C00275'/></div></td><td><div class=\"enzyme\">6</div></td><td><div class=\"container\"><div id=\"C00236\" class=\"ligand\"></div><img src='http://www.genome.jp/Fig/compound/C00236.gif' alt='C00236'/></div></td><td><div class=\"enzyme\">7</div></td><td><div class=\"container\"><div id=\"C05378\" class=\"ligand\"></div><img src='http://www.genome.jp/Fig/compound/C05378.gif' alt='C05378'/></div></td><td><div class=\"enzyme\">8</div></td><td><div class=\"container\"><div id=\"C00631\" class=\"ligand\"></div><img src='http://www.genome.jp/Fig/compound/C00631.gif' alt='C00631'/></div></td><td><div class=\"enzyme\">9</div></td><td><div class=\"container\"><div id=\"C00074\" class=\"ligand\"></div><img src='http://www.genome.jp/Fig/compound/C00074.gif' alt='C00074'/></div></td><td><div class=\"enzyme\">10</div></td><td><div class=\"container\"><div id=\"C00022\" class=\"ligand\"></div><img src='http://www.genome.jp/Fig/compound/C00022.gif' alt='C00022'/></div></td><td><div class=\"enzyme\">3</div></td><td><div class=\"container\"><div id=\"C00631\" class=\"ligand\"></div><img src='http://www.genome.jp/Fig/compound/C00631.gif' alt='C00631'/></div></td><td><div class=\"enzyme\">4</div></td><td><div class=\"container\"><div id=\"C00266\" class=\"ligand\"></div><img src='http://www.genome.jp/Fig/compound/C00266.gif' alt='C00266'/></div></td><td><div class=\"enzyme\">2</div></td><td><div class=\"container\"><div id=\"C00033\" class=\"ligand\"></div><img src='http://www.genome.jp/Fig/compound/C00033.gif' alt='C00033'/></div></td><td><div class=\"enzyme\">1</div></td><td><div class=\"container\"><div id=\"C00227\" class=\"ligand\"></div><img src='http://www.genome.jp/Fig/compound/C00227.gif' alt='C00227'/></div></td></tr><tr><td><div class=\"container\"><div id=\"C00111\" class=\"ligand\"></div><img src='http://www.genome.jp/Fig/compound/C00111.gif' alt='C00111'/></div></td><td></td><td><div class=\"container\"><div id=\"C00118\" class=\"ligand\"></div><img src='http://www.genome.jp/Fig/compound/C00118.gif' alt='C00118'/></div></td><td></td><td><div class=\"container\"><div id=\"C05378\" class=\"ligand\"></div><img src='http://www.genome.jp/Fig/compound/C05378.gif' alt='C05378'/></div></td><td><div class=\"enzyme\">4</div></td><td><div class=\"container\"><div id=\"C00197\" class=\"ligand\"></div><img src='http://www.genome.jp/Fig/compound/C00197.gif' alt='C00197'/></div></td><td><div class=\"enzyme\">5</div></td><td><div class=\"container\"><div id=\"C00118\" class=\"ligand\"></div><img src='http://www.genome.jp/Fig/compound/C00118.gif' alt='C00118'/></div></td><td><div class=\"enzyme\">6</div></td><td><div class=\"container\"><div id=\"C00236\" class=\"ligand\"></div><img src='http://www.genome.jp/Fig/compound/C00236.gif' alt='C00236'/></div></td><td><div class=\"enzyme\">7</div></td><td><div class=\"container\"><div id=\"C00197\" class=\"ligand\"></div><img src='http://www.genome.jp/Fig/compound/C00197.gif' alt='C00197'/></div></td><td><div class=\"enzyme\">8</div></td><td></td><td><div class=\"enzyme\">9</div></td><td><div class=\"container\"><div id=\"C00074\" class=\"ligand\"></div><img src='http://www.genome.jp/Fig/compound/C00074.gif' alt='C00074'/></div></td><td><div class=\"enzyme\">10</div></td><td><div class=\"container\"><div id=\"C00022\" class=\"ligand\"></div><img src='http://www.genome.jp/Fig/compound/C00022.gif' alt='C00022'/></div></td><td><div class=\"enzyme\">5</div></td><td></td></tr><tr><td><div class=\"container\"><div id=\"C00103\" class=\"ligand\"></div><img src='http://www.genome.jp/Fig/compound/C00103.gif' alt='C00103'/></div></td><td></td><td><div class=\"container\"><div id=\"C00660\" class=\"ligand\"></div><img src='http://www.genome.jp/Fig/compound/C00660.gif' alt='C00660'/></div></td><td></td><td></td><td></td><td><div class=\"container\"><div id=\"C00111\" class=\"ligand\"></div><img src='http://www.genome.jp/Fig/compound/C00111.gif' alt='C00111'/></div></td><td></td><td></td><td></td><td></td><td></td><td></td><td></td><td></td><td></td><td></td><td></td><td><div class=\"container\"><div id=\"C05235\" class=\"ligand\"></div><img src='http://www.genome.jp/Fig/compound/C05235.gif' alt='C05235'/></div></td><td><div class=\"enzyme\">3</div></td><td></td></tr><tr><td><div class=\"container\"><div id=\"C00275\" class=\"ligand\"></div><img src='http://www.genome.jp/Fig/compound/C00275.gif' alt='C00275'/></div></td><td></td><td><div class=\"container\"><div id=\"C03693\" class=\"ligand\"></div><img src='http://www.genome.jp/Fig/compound/C03693.gif' alt='C03693'/></div></td><td></td><td></td><td></td><td></td><td></td><td></td><td></td><td></td><td></td><td></td><td></td><td></td><td></td><td></td><td></td><td></td><td></td><td></td></tr></table>\n",
       "                        <style type=\"text/css\">\n",
       "                        .match {\n",
       "                            font-size: 1.5em;\n",
       "                            //font-weight: bold\n",
       "                        }\n",
       "                        table.results, .results td, .results th {\n",
       "                            border: 1px solid gray\n",
       "                        }\n",
       "                        .results th {\n",
       "                            padding: 5px;\n",
       "                            font-size: 1.5em\n",
       "                        }\n",
       "                        table.results {\n",
       "                            border-collapse: collapse;\n",
       "                            font-family: \"Helvetica\"\n",
       "                        }\n",
       "                        table.results >> td {\n",
       "                            height: 100px;\n",
       "                            width: auto;\n",
       "                            padding: 0;\n",
       "                            margin: 0;\n",
       "                            text-align: center;\n",
       "                            vertical-align: middle;\n",
       "                        }\n",
       "                        div.enzyme {\n",
       "                            text-align: center;\n",
       "                            font-size: 1.5em;\n",
       "                            padding-left: .8em;\n",
       "                            padding-right: .8em;\n",
       "                            //border: 2px hidden black;\n",
       "                        }\n",
       "                        div.ligand {\n",
       "                            opacity: 0.4;\n",
       "                            top:0;\n",
       "                            width: 100%;\n",
       "                            height: 100%;\n",
       "                            position: absolute;\n",
       "                            border-radius: 15px;\n",
       "                            z-index: 0\n",
       "                        }\n",
       "                        div.container {\n",
       "                            //text-align: center;\n",
       "                            height: 100%;\n",
       "                            width: auto;\n",
       "                            position:relative\n",
       "                        }\n",
       "                        .results img {\n",
       "                            height: 100px;\n",
       "                            width: auto;\n",
       "                            border-radius: 15px\n",
       "                            \n",
       "                        }\n",
       "                        </style><style type=\"text/css\">\n",
       "                #C00031 {\n",
       "                    background-color: #e50000\n",
       "                }\n",
       "                \n",
       "                #C00092 {\n",
       "                    background-color: #e57600\n",
       "                }\n",
       "                \n",
       "                #C00085 {\n",
       "                    background-color: #dde500\n",
       "                }\n",
       "                \n",
       "                #C00354 {\n",
       "                    background-color: #66e500\n",
       "                }\n",
       "                \n",
       "                #C00111 {\n",
       "                    background-color: #00e510\n",
       "                }\n",
       "                \n",
       "                #C00118 {\n",
       "                    background-color: #00e587\n",
       "                }\n",
       "                \n",
       "                #C00236 {\n",
       "                    background-color: #00cce5\n",
       "                }\n",
       "                \n",
       "                #C00197 {\n",
       "                    background-color: #0055e5\n",
       "                }\n",
       "                \n",
       "                #C00631 {\n",
       "                    background-color: #2100e5\n",
       "                }\n",
       "                \n",
       "                #C00074 {\n",
       "                    background-color: #9800e5\n",
       "                }\n",
       "                \n",
       "                #C00022 {\n",
       "                    background-color: #e500bb\n",
       "                }\n",
       "                </style>"
      ],
      "text/plain": [
       "<IPython.core.display.HTML object>"
      ]
     },
     "execution_count": 14,
     "metadata": {},
     "output_type": "execute_result"
    }
   ],
   "source": [
    "HTML(pE.get_html_table(percent_cutoff=.005, enz_percent_cutoff=.4))"
   ]
  },
  {
   "cell_type": "code",
   "execution_count": 11,
   "metadata": {
    "collapsed": false
   },
   "outputs": [
    {
     "data": {
      "image/png": "[encoded data removed]",
      "text/plain": [
       "<matplotlib.figure.Figure at 0x7f8d309e7c50>"
      ]
     },
     "metadata": {},
     "output_type": "display_data"
    }
   ],
   "source": [
    "pE.plot_heatmap_ligands(percent_cutoff=.2, aspect_ratio=3, figsize=(10,8))"
   ]
  },
  {
   "cell_type": "code",
   "execution_count": 13,
   "metadata": {
    "collapsed": false
   },
   "outputs": [
    {
     "data": {
      "image/png": "[encoded data removed]",
      "text/plain": [
       "<matplotlib.figure.Figure at 0x7f8d2e68de90>"
      ]
     },
     "metadata": {},
     "output_type": "display_data"
    }
   ],
   "source": [
    "pE.plot_convergence_by_runs(run_increment=50)"
   ]
  }
 ],
 "metadata": {
  "kernelspec": {
   "display_name": "Python 2",
   "language": "python",
   "name": "python2"
  },
  "language_info": {
   "codemirror_mode": {
    "name": "ipython",
    "version": 2
   },
   "file_extension": ".py",
   "mimetype": "text/x-python",
   "name": "python",
   "nbconvert_exporter": "python",
   "pygments_lexer": "ipython2",
   "version": "2.7.12"
  }
 },
 "nbformat": 4,
 "nbformat_minor": 0
}
