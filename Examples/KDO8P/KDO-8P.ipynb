{
 "metadata": {
  "name": "KDO-8P"
 },
 "nbformat": 3,
 "nbformat_minor": 0,
 "worksheets": [
  {
   "cells": [
    {
     "cell_type": "heading",
     "level": 1,
     "metadata": {},
     "source": [
      "CMP KDO 8-phosphate biosynthesis pathway"
     ]
    },
    {
     "cell_type": "markdown",
     "metadata": {},
     "source": [
      "Benchmark pathway"
     ]
    },
    {
     "cell_type": "markdown",
     "metadata": {},
     "source": [
      "http://biocyc.org/META/new-image?object=PWY-1269"
     ]
    },
    {
     "cell_type": "markdown",
     "metadata": {},
     "source": [
      "Import libraries"
     ]
    },
    {
     "cell_type": "code",
     "collapsed": false,
     "input": [
      "%pylab inline\n",
      "from analyze_test import pathens\n",
      "from analyze_test import pathstring_to_table\n",
      "import matplotlib\n",
      "import matplotlib.pyplot as plt\n",
      "import numpy as np\n",
      "from IPython.display import HTML"
     ],
     "language": "python",
     "metadata": {},
     "outputs": [
      {
       "output_type": "stream",
       "stream": "stdout",
       "text": [
        "\n",
        "Welcome to pylab, a matplotlib-based Python environment [backend: module://IPython.zmq.pylab.backend_inline].\n",
        "For more information, type 'help(pylab)'.\n"
       ]
      }
     ],
     "prompt_number": 1
    },
    {
     "cell_type": "markdown",
     "metadata": {},
     "source": [
      "Define file locations, input enzymes/ligands, and true pathway"
     ]
    },
    {
     "cell_type": "code",
     "collapsed": false,
     "input": [
      "picklefile = 'kdo_test_2sd.pickle'\n",
      "datafile = '../../park2/scalhoun/cluster_output/kdo/data_kdo_sea.h5'\n",
      "enzs = ['01', '04', '03', '06a']\n",
      "ligands = ['ZINC01532567', 'ZINC03606137', 'ZINC03870009', 'ZINC02562361', 'ZINC30725157']"
     ],
     "language": "python",
     "metadata": {},
     "outputs": [],
     "prompt_number": 2
    },
    {
     "cell_type": "markdown",
     "metadata": {},
     "source": [
      "Load the pathway models from the output pickle file and data"
     ]
    },
    {
     "cell_type": "code",
     "collapsed": false,
     "input": [
      "pE = pathens(datafile=datafile)\n",
      "pE.set_all_enzymes(enzs)\n",
      "pE.set_true_enzymes(enzs)\n",
      "pE.set_true_ligands(ligands)\n",
      "pE.set_true_path()\n",
      "pE.load_data_from_analysis_pickle(picklefile)\n",
      "pE.make_position_matrices()\n",
      "print 'Number of unique paths: %d' % len(pE.uniqpathstrs)\n",
      "print 'Number of clusters: %d' % np.max(pE.flatclusters)"
     ],
     "language": "python",
     "metadata": {},
     "outputs": [
      {
       "output_type": "stream",
       "stream": "stdout",
       "text": [
        "Number of unique paths: 29\n",
        "Number of clusters: 5\n"
       ]
      }
     ],
     "prompt_number": 3
    },
    {
     "cell_type": "markdown",
     "metadata": {},
     "source": [
      "Find the rank of the pathway model that matches the true pathway"
     ]
    },
    {
     "cell_type": "code",
     "collapsed": false,
     "input": [
      "score = pE.np_path_array['obj'][pE.np_path_array['strrepr'] == pE.true_path]\n",
      "print 'Rank of true path: %d' % (np.sum(pE.np_path_array['obj'] > score) + 1)\n",
      "HTML(pathstring_to_table(pE.true_path))"
     ],
     "language": "python",
     "metadata": {},
     "outputs": [
      {
       "output_type": "stream",
       "stream": "stdout",
       "text": [
        "Rank of true path: 18\n"
       ]
      },
      {
       "html": [
        "<tr><td><img src='http://zinc.docking.org/img/sub/1532567.gif' alt='ZINC01532567'/></td><td style=\"padding: 15px\"><strong>01</strong></td><td><img src='http://zinc.docking.org/img/sub/3606137.gif' alt='ZINC03606137'/></td><td style=\"padding: 15px\"><strong>04</strong></td><td><img src='http://zinc.docking.org/img/sub/3870009.gif' alt='ZINC03870009'/></td><td style=\"padding: 15px\"><strong>03</strong></td><td><img src='http://zinc.docking.org/img/sub/2562361.gif' alt='ZINC02562361'/></td><td style=\"padding: 15px\"><strong>06a</strong></td><td><img src='http://zinc.docking.org/img/sub/30725157.gif' alt='ZINC30725157'/></td></tr>"
       ],
       "output_type": "pyout",
       "prompt_number": 4,
       "text": [
        "<IPython.core.display.HTML at 0x47d9450>"
       ]
      }
     ],
     "prompt_number": 4
    },
    {
     "cell_type": "markdown",
     "metadata": {},
     "source": [
      "For the ensemble of pathway models, determine the entropy averaged over positions, occurrence of correct interactions (averaged over all pathway positions), and ranks of correct components at each position"
     ]
    },
    {
     "cell_type": "code",
     "collapsed": false,
     "input": [
      "pE.evaluate_accuracy_precision()"
     ],
     "language": "python",
     "metadata": {},
     "outputs": [
      {
       "output_type": "stream",
       "stream": "stdout",
       "text": [
        "Mean Entropy: 0.829\n",
        "Mean Interaction Weight: 0.272\n",
        "Mean Ranks over Position: 1.778\n",
        "  Components appearing at position: 9.0\n"
       ]
      }
     ],
     "prompt_number": 5
    },
    {
     "cell_type": "markdown",
     "metadata": {},
     "source": [
      "Rank of substrate and product to their corresponding enzyme"
     ]
    },
    {
     "cell_type": "code",
     "collapsed": false,
     "input": [
      "HTML(pE.ligand_rankings_html())"
     ],
     "language": "python",
     "metadata": {},
     "outputs": [
      {
       "html": [
        "<table><tr>\n",
        "                        <th>Enzyme</th>\n",
        "                        <th>Substrate rank from individual docking run</th>\n",
        "                        <th>Product rank from individual docking run</th>\n",
        "                        <th>Substrate rank by integrated approach</th>\n",
        "                        <th>Product rank by integrated approach</th>\n",
        "                        <th>Interaction rank by integrated approach</th>\n",
        "                        </tr><tr><td>01</td>\n",
        "                                 <td>3228</td>\n",
        "                                 <td>3238</td>\n",
        "                                 <td>1</td>\n",
        "                                 <td>1</td>\n",
        "                                 <td>3</td>\n",
        "                             </tr><tr><td>04</td>\n",
        "                                 <td>543</td>\n",
        "                                 <td>36</td>\n",
        "                                 <td>2</td>\n",
        "                                 <td>3</td>\n",
        "                                 <td>4</td>\n",
        "                             </tr><tr><td>03</td>\n",
        "                                 <td>3204</td>\n",
        "                                 <td>2804</td>\n",
        "                                 <td>4</td>\n",
        "                                 <td>5</td>\n",
        "                                 <td>8</td>\n",
        "                             </tr><tr><td>06a</td>\n",
        "                                 <td>1607</td>\n",
        "                                 <td>3001</td>\n",
        "                                 <td>1</td>\n",
        "                                 <td>1</td>\n",
        "                                 <td>1</td>\n",
        "                             </tr></table>"
       ],
       "output_type": "pyout",
       "prompt_number": 6,
       "text": [
        "<IPython.core.display.HTML at 0x47d9210>"
       ]
      }
     ],
     "prompt_number": 6
    },
    {
     "cell_type": "markdown",
     "metadata": {},
     "source": [
      "Frequency of enzyme occuring in pathway model ensemble at every position"
     ]
    },
    {
     "cell_type": "code",
     "collapsed": false,
     "input": [
      "HTML(pE.enzyme_pos_html())"
     ],
     "language": "python",
     "metadata": {},
     "outputs": [
      {
       "html": [
        "<strong>Columns: Enzyme, Rows: Position</strong><table border=\"1\" class=\"dataframe\">\n",
        "  <thead>\n",
        "    <tr style=\"text-align: right;\">\n",
        "      <th></th>\n",
        "      <th>01</th>\n",
        "      <th>04</th>\n",
        "      <th>03</th>\n",
        "      <th>06a</th>\n",
        "    </tr>\n",
        "  </thead>\n",
        "  <tbody>\n",
        "    <tr>\n",
        "      <th>1</th>\n",
        "      <td>34.5</td>\n",
        "      <td> 0.0</td>\n",
        "      <td>65.5</td>\n",
        "      <td>  0.0</td>\n",
        "    </tr>\n",
        "    <tr>\n",
        "      <th>2</th>\n",
        "      <td>65.5</td>\n",
        "      <td> 6.9</td>\n",
        "      <td>27.6</td>\n",
        "      <td>  0.0</td>\n",
        "    </tr>\n",
        "    <tr>\n",
        "      <th>3</th>\n",
        "      <td> 0.0</td>\n",
        "      <td>93.1</td>\n",
        "      <td> 6.9</td>\n",
        "      <td>  0.0</td>\n",
        "    </tr>\n",
        "    <tr>\n",
        "      <th>4</th>\n",
        "      <td> 0.0</td>\n",
        "      <td> 0.0</td>\n",
        "      <td> 0.0</td>\n",
        "      <td>100.0</td>\n",
        "    </tr>\n",
        "  </tbody>\n",
        "</table>"
       ],
       "output_type": "pyout",
       "prompt_number": 7,
       "text": [
        "<IPython.core.display.HTML at 0x47d9750>"
       ]
      }
     ],
     "prompt_number": 7
    },
    {
     "cell_type": "markdown",
     "metadata": {},
     "source": [
      "By position going across, the component (metabolite or protein) is ordered vertically by frequency occuring at that position in the ensemble of pathway models"
     ]
    },
    {
     "cell_type": "code",
     "collapsed": false,
     "input": [
      "HTML(pE.get_html_table(percent_cutoff=.01, enz_percent_cutoff=0.15, urlstring_to_image='http://zinc.docking.org/img/sub/%s.gif'))"
     ],
     "language": "python",
     "metadata": {},
     "outputs": [
      {
       "html": [
        "<table class=\"results\"><tr><th class=\"correct\" colspan=\"11\">Correct Pathway</th></tr><tr><td class=\"correct\"><div class=\"container\"><div id=\"ZINC01532567\" class=\"ligand\"></div>\n",
        "                                 <img src='http://zinc.docking.org/img/sub/1532567.gif' alt='ZINC01532567'/></div>\n",
        "                                 </td><td class=\"correct\" id=\"E01\"><div class=\"enzyme\">01</div></td><td class=\"correct\"><div class=\"container\"><div id=\"ZINC03606137\" class=\"ligand\"></div>\n",
        "                                 <img src='http://zinc.docking.org/img/sub/3606137.gif' alt='ZINC03606137'/></div>\n",
        "                                 </td><td class=\"correct\" id=\"E04\"><div class=\"enzyme\">04</div></td><td class=\"correct\"><div class=\"container\"><div id=\"ZINC03870009\" class=\"ligand\"></div>\n",
        "                                 <img src='http://zinc.docking.org/img/sub/3870009.gif' alt='ZINC03870009'/></div>\n",
        "                                 </td><td class=\"correct\" id=\"E03\"><div class=\"enzyme\">03</div></td><td class=\"correct\"><div class=\"container\"><div id=\"ZINC02562361\" class=\"ligand\"></div>\n",
        "                                 <img src='http://zinc.docking.org/img/sub/2562361.gif' alt='ZINC02562361'/></div>\n",
        "                                 </td><td class=\"correct\" id=\"E06a\"><div class=\"enzyme\">06a</div></td><td class=\"correct\"><div class=\"container\"><div id=\"ZINC30725157\" class=\"ligand\"></div>\n",
        "                                 <img src='http://zinc.docking.org/img/sub/30725157.gif' alt='ZINC30725157'/></div>\n",
        "                                 </td></tr><th colspan=\"11\">Predicted Pathways</th><tr><td><div class=\"container match\"><div class=\"ligand\" id=\"ZINC01532567\"></div><img src='http://zinc.docking.org/img/sub/1532567.gif' alt='ZINC01532567'/></div></td><td><div class=\"enzyme\">03</div></td><td><div class=\"container match\"><div class=\"ligand\" id=\"ZINC03606137\"></div><img src='http://zinc.docking.org/img/sub/3606137.gif' alt='ZINC03606137'/></div></td><td><div class=\"enzyme\">01</div></td><td><div class=\"container\"><div id=\"ZINC18168715\" class=\"ligand\"></div><img src='http://zinc.docking.org/img/sub/18168715.gif' alt='ZINC18168715'/></div></td><td><div class=\"enzyme\">04</div></td><td><div class=\"container match\"><div class=\"ligand\" id=\"ZINC02562361\"></div><img src='http://zinc.docking.org/img/sub/2562361.gif' alt='ZINC02562361'/></div></td><td><div class=\"enzyme match\" id=\"E06a\">06a</div></td><td><div class=\"container match\"><div class=\"ligand\" id=\"ZINC30725157\"></div><img src='http://zinc.docking.org/img/sub/30725157.gif' alt='ZINC30725157'/></div></td></tr><tr><td><div class=\"container\"><div id=\"ZINC18140538\" class=\"ligand\"></div><img src='http://zinc.docking.org/img/sub/18140538.gif' alt='ZINC18140538'/></div></td><td><div class=\"enzyme match\" id=\"E01\">01</div></td><td><div class=\"container\"><div id=\"ZINC00902225\" class=\"ligand\"></div><img src='http://zinc.docking.org/img/sub/902225.gif' alt='ZINC00902225'/></div></td><td><div class=\"enzyme\">03</div></td><td><div class=\"container\"><div id=\"ZINC03830679\" class=\"ligand\"></div><img src='http://zinc.docking.org/img/sub/3830679.gif' alt='ZINC03830679'/></div></td><td><div class=\"enzyme match\" id=\"E03\">03</div></td><td><div class=\"container\"><div id=\"ZINC03870005\" class=\"ligand\"></div><img src='http://zinc.docking.org/img/sub/3870005.gif' alt='ZINC03870005'/></div></td><td></td><td><div class=\"container\"><div id=\"ZINC30725161\" class=\"ligand\"></div><img src='http://zinc.docking.org/img/sub/30725161.gif' alt='ZINC30725161'/></div></td></tr><tr><td><div class=\"container\"><div id=\"ZINC56874962\" class=\"ligand\"></div><img src='http://zinc.docking.org/img/sub/56874962.gif' alt='ZINC56874962'/></div></td><td></td><td><div class=\"container\"><div id=\"ZINC00895279\" class=\"ligand\"></div><img src='http://zinc.docking.org/img/sub/895279.gif' alt='ZINC00895279'/></div></td><td><div class=\"enzyme match\" id=\"E04\">04</div></td><td><div class=\"container\"><div id=\"ZINC03860903\" class=\"ligand\"></div><img src='http://zinc.docking.org/img/sub/3860903.gif' alt='ZINC03860903'/></div></td><td></td><td><div class=\"container\"><div id=\"ZINC03870009\" class=\"ligand\"></div><img src='http://zinc.docking.org/img/sub/3870009.gif' alt='ZINC03870009'/></div></td><td></td><td><div class=\"container\"><div id=\"ZINC08215638\" class=\"ligand\"></div><img src='http://zinc.docking.org/img/sub/8215638.gif' alt='ZINC08215638'/></div></td></tr><tr><td><div class=\"container\"><div id=\"ZINC03870277\" class=\"ligand\"></div><img src='http://zinc.docking.org/img/sub/3870277.gif' alt='ZINC03870277'/></div></td><td></td><td><div class=\"container\"><div id=\"ZINC01532049\" class=\"ligand\"></div><img src='http://zinc.docking.org/img/sub/1532049.gif' alt='ZINC01532049'/></div></td><td></td><td><div class=\"container\"><div id=\"ZINC03606137\" class=\"ligand\"></div><img src='http://zinc.docking.org/img/sub/3606137.gif' alt='ZINC03606137'/></div></td><td></td><td></td><td></td><td><div class=\"container\"><div id=\"ZINC30320686\" class=\"ligand\"></div><img src='http://zinc.docking.org/img/sub/30320686.gif' alt='ZINC30320686'/></div></td></tr><tr><td></td><td></td><td><div class=\"container\"><div id=\"ZINC01532567\" class=\"ligand\"></div><img src='http://zinc.docking.org/img/sub/1532567.gif' alt='ZINC01532567'/></div></td><td></td><td><div class=\"container match\"><div class=\"ligand\" id=\"ZINC03870009\"></div><img src='http://zinc.docking.org/img/sub/3870009.gif' alt='ZINC03870009'/></div></td><td></td><td></td><td></td><td></td></tr><tr><td></td><td></td><td><div class=\"container\"><div id=\"ZINC03830876\" class=\"ligand\"></div><img src='http://zinc.docking.org/img/sub/3830876.gif' alt='ZINC03830876'/></div></td><td></td><td></td><td></td><td></td><td></td><td></td></tr></table><style type=\"text/css\">\n",
        ".match {\n",
        "    font-size: 1.5em;\n",
        "    //font-weight: bold\n",
        "}\n",
        "table.results, .results td, .results th {\n",
        "    border: 1px solid gray\n",
        "}\n",
        ".results th {\n",
        "    padding: 5px;\n",
        "    font-size: 1.5em\n",
        "}\n",
        "table.results {\n",
        "    border-collapse: collapse;\n",
        "    font-family: \"Helvetica\"\n",
        "}\n",
        "table.results >> td {\n",
        "    height: 100px;\n",
        "    width: auto;\n",
        "    padding: 0;\n",
        "    margin: 0;\n",
        "    text-align: center;\n",
        "    vertical-align: middle;\n",
        "}\n",
        "div.enzyme {\n",
        "    text-align: center;\n",
        "    font-size: 1.5em;\n",
        "    padding-left: .8em;\n",
        "    padding-right: .8em;\n",
        "    //border: 2px hidden black;\n",
        "}\n",
        "div.ligand {\n",
        "    opacity: 0.4;\n",
        "    top:0;\n",
        "    width: 100%;\n",
        "    height: 100%;\n",
        "    position: absolute;\n",
        "    border-radius: 15px;\n",
        "    z-index: 0\n",
        "}\n",
        "div.container {\n",
        "    height: 100%;\n",
        "    width: auto;\n",
        "    position:relative;\n",
        "    text-align: center\n",
        "}\n",
        ".results img {\n",
        "    height: 100px;\n",
        "    width: auto;\n",
        "    border-radius: 15px\n",
        "    \n",
        "}\n",
        "</style>\n",
        "<style type=\"text/css\">\n",
        "                #ZINC01532567 {\n",
        "                    background-color: #e50000\n",
        "                }\n",
        "                \n",
        "                #ZINC03606137 {\n",
        "                    background-color: #c5e500\n",
        "                }\n",
        "                \n",
        "                #ZINC03870009 {\n",
        "                    background-color: #00e540\n",
        "                }\n",
        "                \n",
        "                #ZINC02562361 {\n",
        "                    background-color: #0085e5\n",
        "                }\n",
        "                \n",
        "                #ZINC30725157 {\n",
        "                    background-color: #8000e5\n",
        "                }\n",
        "                </style>"
       ],
       "output_type": "pyout",
       "prompt_number": 8,
       "text": [
        "<IPython.core.display.HTML at 0x47dfd50>"
       ]
      }
     ],
     "prompt_number": 8
    },
    {
     "cell_type": "markdown",
     "metadata": {},
     "source": [
      "Test to evaluate the sampling coverage. For an increasing number of runs, the number of unique clusters observed from those runs were plotted. For each N number of runs, the cluster counts were repeated 50 times with a different group of N runs chosen at random."
     ]
    },
    {
     "cell_type": "code",
     "collapsed": false,
     "input": [
      "incre = 20\n",
      "maxruns = 2000\n",
      "fig = plt.figure(figsize=(10, 8))\n",
      "ax = plt.subplot(1, 1, 1)\n",
      "x = pE.conv_test_means\n",
      "errs = pE.conv_test_stds\n",
      "ax.errorbar(1+incre*np.arange(len(x[0:maxruns:incre])), np.array(x[0:maxruns:incre]), fmt='o-', yerr=np.array(errs[0:maxruns:incre]))\n",
      "ax.axhline(max(x), ls='--', color='#333333', lw=2)\n",
      "ax.set_ylabel('Clusters observed')\n",
      "ax.set_xlabel('Number of runs')\n",
      "ax.set_ylim(bottom=0, top = 1.1*np.max(x))\n",
      "ax.xaxis.labelpad = 5\n",
      "ax.yaxis.labelpad = 5\n",
      "plt.show()"
     ],
     "language": "python",
     "metadata": {},
     "outputs": [
      {
       "output_type": "display_data",
       "png": "[encoded data removed]"
      }
     ],
     "prompt_number": 9
    },
    {
     "cell_type": "heading",
     "level": 1,
     "metadata": {},
     "source": [
      "________________________________________________________________________________________________________"
     ]
    },
    {
     "cell_type": "heading",
     "level": 2,
     "metadata": {},
     "source": [
      "Predicting KDO-8P pathway with decoy enzymes in the candidate set"
     ]
    },
    {
     "cell_type": "markdown",
     "metadata": {},
     "source": [
      "The protein candidate set includes enzymes that are not in the true pathway (enzymes are taken from the serine biosynthesis pathway)."
     ]
    },
    {
     "cell_type": "markdown",
     "metadata": {},
     "source": [
      "Load data from output pickle files for different pathway lengths from 3 to 6 enzymes"
     ]
    },
    {
     "cell_type": "code",
     "collapsed": false,
     "input": [
      "datafile = '../../park2/scalhoun/cluster_output/pathcomb2/data_kdo_ser_sea.h5'\n",
      "\n",
      "P3 = pathens(datafile=datafile)\n",
      "P3.load_data_from_analysis_pickle('pathcomb2_3.pickle')\n",
      "P4 = pathens(datafile=datafile)\n",
      "P4.load_data_from_analysis_pickle('pathcomb2_4.pickle')\n",
      "P5 = pathens(datafile=datafile)\n",
      "P5.load_data_from_analysis_pickle('pathcomb2_5.pickle')\n",
      "\n",
      "# With 6 enzymes in pathway, no pathways were within 2 standard deviations of the best score\n",
      "# so a lower cutoff was defined to analyze the best scoring pathway models\n",
      "P6 = pathens(datafile=datafile)\n",
      "P6.load_data_from_analysis_pickle('pathcomb2_2.5sd_6.pickle')\n",
      "\n",
      "allpaths = np.concatenate([P3.np_path_array, P4.np_path_array, P5.np_path_array])\n",
      "allpaths.sort(order='obj')\n",
      "\n",
      "enzs = ['k1', 'k2', 'k3', 'k4']\n",
      "ligands = ['ZINC01532567', 'ZINC03606137', 'ZINC03870009', 'ZINC02562361', 'ZINC30725157']\n",
      "P4.set_true_path(enzymelist=enzs, ligandlist=ligands)"
     ],
     "language": "python",
     "metadata": {},
     "outputs": [],
     "prompt_number": 10
    },
    {
     "cell_type": "markdown",
     "metadata": {},
     "source": [
      "After combining all good-scoring pathway models for different lengths, find the rank of the pathway model tha matches the true pathway"
     ]
    },
    {
     "cell_type": "code",
     "collapsed": false,
     "input": [
      "truescore = allpaths['obj'][allpaths['strrepr'] == P4.true_path]\n",
      "print 'Rank of true path: %d' % (np.sum(allpaths['obj'] > truescore) + 1)\n",
      "print 'Number of unique paths: %d' % len(allpaths)"
     ],
     "language": "python",
     "metadata": {},
     "outputs": [
      {
       "output_type": "stream",
       "stream": "stdout",
       "text": [
        "Rank of true path: 7\n",
        "Number of unique paths: 121\n"
       ]
      }
     ],
     "prompt_number": 11
    },
    {
     "cell_type": "markdown",
     "metadata": {},
     "source": [
      "Best scoring pathway models for N = 3, 4, 5, 6"
     ]
    },
    {
     "cell_type": "code",
     "collapsed": false,
     "input": [
      "from analyze_test import pathstring_to_table\n",
      "\n",
      "H3 = pathstring_to_table(P3.best_path, title=('Three enzymes\\nScore = %.3f' % P3.best_score))\n",
      "H4 = pathstring_to_table(P4.best_path, title=('Four enzymes\\nScore = %.3f' % P4.best_score))\n",
      "H5 = pathstring_to_table(P5.best_path, title=('Five enzymes\\nScore = %.3f' % P5.best_score))\n",
      "H6 = pathstring_to_table(P6.best_path, title=('Six enzymes\\nScore = %.3f' % P6.best_score))\n",
      "\n",
      "HTML('<table>%s%s%s%s</table>' % (H3, H4, H5, H6))"
     ],
     "language": "python",
     "metadata": {},
     "outputs": [
      {
       "html": [
        "<table><tr><td style=\"font-size:1.5em\"><strong>Three enzymes\n",
        "Score = 25.220</strong></td><td><img src='http://zinc.docking.org/img/sub/4658557.gif' alt='ZINC04658557'/></td><td style=\"padding: 15px\"><strong>s1</strong></td><td><img src='http://zinc.docking.org/img/sub/4658554.gif' alt='ZINC04658554'/></td><td style=\"padding: 15px\"><strong>k2</strong></td><td><img src='http://zinc.docking.org/img/sub/1532865.gif' alt='ZINC01532865'/></td><td style=\"padding: 15px\"><strong>s2</strong></td><td><img src='http://zinc.docking.org/img/sub/895967.gif' alt='ZINC00895967'/></td></tr><tr><td style=\"font-size:1.5em\"><strong>Four enzymes\n",
        "Score = 27.346</strong></td><td><img src='http://zinc.docking.org/img/sub/1532567.gif' alt='ZINC01532567'/></td><td style=\"padding: 15px\"><strong>k3</strong></td><td><img src='http://zinc.docking.org/img/sub/902225.gif' alt='ZINC00902225'/></td><td style=\"padding: 15px\"><strong>k1</strong></td><td><img src='http://zinc.docking.org/img/sub/18168715.gif' alt='ZINC18168715'/></td><td style=\"padding: 15px\"><strong>k2</strong></td><td><img src='http://zinc.docking.org/img/sub/2562361.gif' alt='ZINC02562361'/></td><td style=\"padding: 15px\"><strong>k4</strong></td><td><img src='http://zinc.docking.org/img/sub/30725157.gif' alt='ZINC30725157'/></td></tr><tr><td style=\"font-size:1.5em\"><strong>Five enzymes\n",
        "Score = 25.373</strong></td><td><img src='http://zinc.docking.org/img/sub/1529544.gif' alt='ZINC01529544'/></td><td style=\"padding: 15px\"><strong>s1</strong></td><td><img src='http://zinc.docking.org/img/sub/1532567.gif' alt='ZINC01532567'/></td><td style=\"padding: 15px\"><strong>k3</strong></td><td><img src='http://zinc.docking.org/img/sub/902225.gif' alt='ZINC00902225'/></td><td style=\"padding: 15px\"><strong>k1</strong></td><td><img src='http://zinc.docking.org/img/sub/18168715.gif' alt='ZINC18168715'/></td><td style=\"padding: 15px\"><strong>k2</strong></td><td><img src='http://zinc.docking.org/img/sub/2562361.gif' alt='ZINC02562361'/></td><td style=\"padding: 15px\"><strong>k4</strong></td><td><img src='http://zinc.docking.org/img/sub/30725157.gif' alt='ZINC30725157'/></td></tr><tr><td style=\"font-size:1.5em\"><strong>Six enzymes\n",
        "Score = 24.616</strong></td><td><img src='http://zinc.docking.org/img/sub/18140538.gif' alt='ZINC18140538'/></td><td style=\"padding: 15px\"><strong>k3</strong></td><td><img src='http://zinc.docking.org/img/sub/1529270.gif' alt='ZINC01529270'/></td><td style=\"padding: 15px\"><strong>k1</strong></td><td><img src='http://zinc.docking.org/img/sub/2556396.gif' alt='ZINC02556396'/></td><td style=\"padding: 15px\"><strong>s1</strong></td><td><img src='http://zinc.docking.org/img/sub/4095917.gif' alt='ZINC04095917'/></td><td style=\"padding: 15px\"><strong>s2</strong></td><td><img src='http://zinc.docking.org/img/sub/3830889.gif' alt='ZINC03830889'/></td><td style=\"padding: 15px\"><strong>k2</strong></td><td><img src='http://zinc.docking.org/img/sub/4097157.gif' alt='ZINC04097157'/></td><td style=\"padding: 15px\"><strong>k4</strong></td><td><img src='http://zinc.docking.org/img/sub/8215638.gif' alt='ZINC08215638'/></td></tr></table>"
       ],
       "output_type": "pyout",
       "prompt_number": 12,
       "text": [
        "<IPython.core.display.HTML at 0x47df490>"
       ]
      }
     ],
     "prompt_number": 12
    },
    {
     "cell_type": "markdown",
     "metadata": {},
     "source": [
      "Plot of the scores for pathway models at each length. The best score at each length is shown as a blue circle, the score of the pathway model that matches the true pathway is shown as a green triangle, and all other scores as black dots. The cutoff for good scoring models shown as a red dashed line."
     ]
    },
    {
     "cell_type": "code",
     "collapsed": false,
     "input": [
      "truescore = allpaths['obj'][allpaths['strrepr'] == P4.true_path]\n",
      "best = np.max([P3.best_score, P4.best_score, P5.best_score, P6.best_score])\n",
      "stdev = 1.294329566\n",
      "cutoff = best - 2*stdev\n",
      "\n",
      "xs = [0.5, 1.5, 2.5, 3.5]\n",
      "colors=['#6c91ff', '#ff5f5f', '#199A19']\n",
      "\n",
      "fig = plt.figure(figsize=(8, 7))\n",
      "ax = plt.subplot(1, 1, 1)\n",
      "ax.plot(xs, [P3.best_score, P4.best_score, P5.best_score, P6.best_score], '.', ms=25, color=colors[0])\n",
      "ax.plot(xs[1], truescore, 'v', ms=15, color=colors[2], markeredgewidth=0.)\n",
      "ax.plot([0.5]*len(P3.np_path_array), P3.np_path_array, '.', ms=5, color='k')\n",
      "ax.plot([1.5]*len(P4.np_path_array), P4.np_path_array, '.', ms=5, color='k')\n",
      "ax.plot([2.5]*len(P5.np_path_array), P5.np_path_array, '.', ms=5, color='k')\n",
      "ax.set_xticklabels(['3', '4', '5', '6'])\n",
      "ax.set_xticks(xs)\n",
      "ax.set_yticks(range(23,29))\n",
      "ax.set_yticklabels(range(23,29))\n",
      "ax.set_xlim(0.0, 4.)\n",
      "ax.set_ylim(22.8, 28.2)\n",
      "ax.axhline(cutoff, ls='--', color=colors[1])\n",
      "ax.set_xlabel('Number of protein pathway members')\n",
      "ax.set_ylabel('Pathway model score')\n",
      "plt.show()"
     ],
     "language": "python",
     "metadata": {},
     "outputs": [
      {
       "output_type": "display_data",
       "png": "[encoded data removed]"
      }
     ],
     "prompt_number": 13
    },
    {
     "cell_type": "markdown",
     "metadata": {},
     "source": [
      "_____________________________________________________________________________________"
     ]
    },
    {
     "cell_type": "heading",
     "level": 2,
     "metadata": {},
     "source": [
      "Predicting KDO-8P pathway with dummy enzyme in candidate set in place of known enzyme"
     ]
    },
    {
     "cell_type": "markdown",
     "metadata": {},
     "source": [
      "In the candidate set of enzymes, we replaced one enzyme with a dummy enzyme and test whether we can still reconstruct the pathway."
     ]
    },
    {
     "cell_type": "markdown",
     "metadata": {},
     "source": [
      "Define file locations, input enzymes/ligands, and true pathway"
     ]
    },
    {
     "cell_type": "code",
     "collapsed": false,
     "input": [
      "picklefile = 'kdo_dummy_lowcutoff.pickle'\n",
      "datafile = '../../park2/scalhoun/cluster_output/kdo/data_kdo_sea.h5'\n",
      "enzs = ['01', 'D', '03', '06a']\n",
      "ligands = ['ZINC01532567', 'ZINC03606137', 'ZINC03870009', 'ZINC02562361', 'ZINC30725157']"
     ],
     "language": "python",
     "metadata": {},
     "outputs": [],
     "prompt_number": 14
    },
    {
     "cell_type": "markdown",
     "metadata": {},
     "source": [
      "Load the pathway models from the output pickle file and data"
     ]
    },
    {
     "cell_type": "code",
     "collapsed": false,
     "input": [
      "pE = pathens(datafile=datafile)\n",
      "pE.set_all_enzymes(enzs)\n",
      "pE.set_true_enzymes(enzs)\n",
      "pE.set_true_ligands(ligands)\n",
      "pE.set_true_path()\n",
      "pE.load_data_from_analysis_pickle(picklefile)\n",
      "pE.make_position_matrices()\n",
      "print 'Number of unique paths: %d' % len(pE.uniqpathstrs)"
     ],
     "language": "python",
     "metadata": {},
     "outputs": [
      {
       "output_type": "stream",
       "stream": "stdout",
       "text": [
        "Number of unique paths: 8536\n"
       ]
      }
     ],
     "prompt_number": 15
    },
    {
     "cell_type": "markdown",
     "metadata": {},
     "source": [
      "Find the rank of the pathway model that matches the true pathway with the dummy enzyme in place of the missing enzyme"
     ]
    },
    {
     "cell_type": "code",
     "collapsed": false,
     "input": [
      "score = pE.np_path_array['obj'][pE.np_path_array['strrepr'] == pE.true_path]\n",
      "print 'Rank of correct path: %d' % (np.sum(pE.np_path_array['obj'] > score) + 1)\n",
      "print pE.true_path"
     ],
     "language": "python",
     "metadata": {},
     "outputs": [
      {
       "output_type": "stream",
       "stream": "stdout",
       "text": [
        "Rank of correct path: 8389\n",
        "ZINC01532567 -> 01 -> ZINC03606137 -> D -> ZINC03870009 -> 03 -> ZINC02562361 -> 06a -> ZINC30725157\n"
       ]
      }
     ],
     "prompt_number": 16
    },
    {
     "cell_type": "markdown",
     "metadata": {},
     "source": [
      "Rank of substrate and product to their corresponding enzyme"
     ]
    },
    {
     "cell_type": "code",
     "collapsed": false,
     "input": [
      "HTML(pE.ligand_rankings_html())"
     ],
     "language": "python",
     "metadata": {},
     "outputs": [
      {
       "html": [
        "<table><tr>\n",
        "                        <th>Enzyme</th>\n",
        "                        <th>Substrate rank from individual docking run</th>\n",
        "                        <th>Product rank from individual docking run</th>\n",
        "                        <th>Substrate rank by integrated approach</th>\n",
        "                        <th>Product rank by integrated approach</th>\n",
        "                        <th>Interaction rank by integrated approach</th>\n",
        "                        </tr><tr><td>01</td>\n",
        "                                 <td>3228</td>\n",
        "                                 <td>3238</td>\n",
        "                                 <td>43</td>\n",
        "                                 <td>45</td>\n",
        "                                 <td>57</td>\n",
        "                             </tr><tr><td>D</td>\n",
        "                                 <td>-1</td>\n",
        "                                 <td>-1</td>\n",
        "                                 <td>77</td>\n",
        "                                 <td>37</td>\n",
        "                                 <td>79</td>\n",
        "                             </tr><tr><td>03</td>\n",
        "                                 <td>3204</td>\n",
        "                                 <td>2804</td>\n",
        "                                 <td>37</td>\n",
        "                                 <td>30</td>\n",
        "                                 <td>64</td>\n",
        "                             </tr><tr><td>06a</td>\n",
        "                                 <td>1607</td>\n",
        "                                 <td>3001</td>\n",
        "                                 <td>33</td>\n",
        "                                 <td>7</td>\n",
        "                                 <td>53</td>\n",
        "                             </tr></table>"
       ],
       "output_type": "pyout",
       "prompt_number": 17,
       "text": [
        "<IPython.core.display.HTML at 0x47a0d90>"
       ]
      }
     ],
     "prompt_number": 17
    },
    {
     "cell_type": "markdown",
     "metadata": {},
     "source": [
      "Frequency of enzyme occuring in pathway model ensemble at every position"
     ]
    },
    {
     "cell_type": "code",
     "collapsed": false,
     "input": [
      "HTML(pE.enzyme_pos_html())"
     ],
     "language": "python",
     "metadata": {},
     "outputs": [
      {
       "html": [
        "<strong>Columns: Enzyme, Rows: Position</strong><table border=\"1\" class=\"dataframe\">\n",
        "  <thead>\n",
        "    <tr style=\"text-align: right;\">\n",
        "      <th></th>\n",
        "      <th>01</th>\n",
        "      <th>D</th>\n",
        "      <th>03</th>\n",
        "      <th>06a</th>\n",
        "    </tr>\n",
        "  </thead>\n",
        "  <tbody>\n",
        "    <tr>\n",
        "      <th>1</th>\n",
        "      <td>24.3</td>\n",
        "      <td>26.6</td>\n",
        "      <td>48.8</td>\n",
        "      <td> 0.3</td>\n",
        "    </tr>\n",
        "    <tr>\n",
        "      <th>2</th>\n",
        "      <td>35.8</td>\n",
        "      <td>36.9</td>\n",
        "      <td>26.1</td>\n",
        "      <td> 1.2</td>\n",
        "    </tr>\n",
        "    <tr>\n",
        "      <th>3</th>\n",
        "      <td>39.7</td>\n",
        "      <td>34.8</td>\n",
        "      <td>20.3</td>\n",
        "      <td> 5.2</td>\n",
        "    </tr>\n",
        "    <tr>\n",
        "      <th>4</th>\n",
        "      <td> 0.2</td>\n",
        "      <td> 1.7</td>\n",
        "      <td> 4.9</td>\n",
        "      <td>93.3</td>\n",
        "    </tr>\n",
        "  </tbody>\n",
        "</table>"
       ],
       "output_type": "pyout",
       "prompt_number": 18,
       "text": [
        "<IPython.core.display.HTML at 0x4e4a450>"
       ]
      }
     ],
     "prompt_number": 18
    }
   ],
   "metadata": {}
  }
 ]
}