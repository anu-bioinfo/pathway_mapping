{
 "metadata": {
  "name": "Serine"
 },
 "nbformat": 3,
 "nbformat_minor": 0,
 "worksheets": [
  {
   "cells": [
    {
     "cell_type": "heading",
     "level": 1,
     "metadata": {},
     "source": [
      "Serine/Cysteine biosynthesis pathway"
     ]
    },
    {
     "cell_type": "markdown",
     "metadata": {},
     "source": [
      "Benchmark pathway"
     ]
    },
    {
     "cell_type": "markdown",
     "metadata": {},
     "source": [
      "http://metacyc.org/META/NEW-IMAGE?type=PATHWAY&object=SERSYN-PWY"
     ]
    },
    {
     "cell_type": "markdown",
     "metadata": {},
     "source": [
      "http://metacyc.org/META/NEW-IMAGE?type=PATHWAY&object=CYSTSYN-PWY"
     ]
    },
    {
     "cell_type": "markdown",
     "metadata": {},
     "source": [
      "Import libraries"
     ]
    },
    {
     "cell_type": "code",
     "collapsed": false,
     "input": [
      "%pylab inline\n",
      "from analyze_test import pathens\n",
      "from analyze_test import pathstring_to_table\n",
      "import matplotlib\n",
      "import matplotlib.pyplot as plt\n",
      "import numpy as np\n",
      "from IPython.display import HTML"
     ],
     "language": "python",
     "metadata": {},
     "outputs": [
      {
       "output_type": "stream",
       "stream": "stdout",
       "text": [
        "\n",
        "Welcome to pylab, a matplotlib-based Python environment [backend: module://IPython.zmq.pylab.backend_inline].\n",
        "For more information, type 'help(pylab)'.\n"
       ]
      }
     ],
     "prompt_number": 1
    },
    {
     "cell_type": "markdown",
     "metadata": {},
     "source": [
      "Define file locations, input enzymes/ligands, and true pathway"
     ]
    },
    {
     "cell_type": "code",
     "collapsed": false,
     "input": [
      "picklefile = 'ser_sea_2sd.pickle'\n",
      "datafile = '/salilab/park2/scalhoun/cluster_output/ser/ser_data_sea.h5'\n",
      "enzs = ['1', '2', '3', '4', '5']\n",
      "ligands = ['ZINC03869933',\n",
      "           'ZINC03869279',\n",
      "           'ZINC03869280',\n",
      "           'ZINC00895034',\n",
      "           'ZINC00895446',\n",
      "           'ZINC00895042']"
     ],
     "language": "python",
     "metadata": {},
     "outputs": [],
     "prompt_number": 2
    },
    {
     "cell_type": "markdown",
     "metadata": {},
     "source": [
      "Load the pathway models from the output pickle file and data"
     ]
    },
    {
     "cell_type": "code",
     "collapsed": false,
     "input": [
      "pE = pathens(datafile=datafile)\n",
      "pE.set_all_enzymes(enzs)\n",
      "pE.set_true_enzymes(enzs)\n",
      "pE.set_true_ligands(ligands)\n",
      "pE.set_true_path()\n",
      "pE.load_data_from_analysis_pickle(picklefile)\n",
      "pE.make_position_matrices()\n",
      "print 'Number of unique paths: %d' % len(pE.uniqpathstrs)\n",
      "print 'Number of clusters: %d' % np.max(pE.flatclusters)"
     ],
     "language": "python",
     "metadata": {},
     "outputs": [
      {
       "output_type": "stream",
       "stream": "stdout",
       "text": [
        "Number of unique paths: 91\n",
        "Number of clusters: 5\n"
       ]
      }
     ],
     "prompt_number": 3
    },
    {
     "cell_type": "markdown",
     "metadata": {},
     "source": [
      "Find the rank of the pathway model that matches the true pathway"
     ]
    },
    {
     "cell_type": "code",
     "collapsed": false,
     "input": [
      "score = pE.np_path_array['obj'][pE.np_path_array['strrepr'] == pE.true_path]\n",
      "print 'Rank of true path: %d' % (np.sum(pE.np_path_array['obj'] > score) + 1)\n",
      "HTML(pathstring_to_table(pE.true_path))"
     ],
     "language": "python",
     "metadata": {},
     "outputs": [
      {
       "output_type": "stream",
       "stream": "stdout",
       "text": [
        "Rank of true path: 1\n"
       ]
      },
      {
       "html": [
        "<tr><td><img src='http://zinc.docking.org/img/sub/3869933.gif' alt='ZINC03869933'/></td><td style=\"padding: 15px\"><strong>1</strong></td><td><img src='http://zinc.docking.org/img/sub/3869279.gif' alt='ZINC03869279'/></td><td style=\"padding: 15px\"><strong>2</strong></td><td><img src='http://zinc.docking.org/img/sub/3869280.gif' alt='ZINC03869280'/></td><td style=\"padding: 15px\"><strong>3</strong></td><td><img src='http://zinc.docking.org/img/sub/895034.gif' alt='ZINC00895034'/></td><td style=\"padding: 15px\"><strong>4</strong></td><td><img src='http://zinc.docking.org/img/sub/895446.gif' alt='ZINC00895446'/></td><td style=\"padding: 15px\"><strong>5</strong></td><td><img src='http://zinc.docking.org/img/sub/895042.gif' alt='ZINC00895042'/></td></tr>"
       ],
       "output_type": "pyout",
       "prompt_number": 4,
       "text": [
        "<IPython.core.display.HTML at 0x4daa490>"
       ]
      }
     ],
     "prompt_number": 4
    },
    {
     "cell_type": "markdown",
     "metadata": {},
     "source": [
      "For the ensemble of pathway models, determine the entropy averaged over positions, occurrence of correct interactions (averaged over all pathway positions), and ranks of correct components at each position"
     ]
    },
    {
     "cell_type": "code",
     "collapsed": false,
     "input": [
      "pE.evaluate_accuracy_precision()"
     ],
     "language": "python",
     "metadata": {},
     "outputs": [
      {
       "output_type": "stream",
       "stream": "stdout",
       "text": [
        "Mean Entropy: 1.261\n",
        "Mean Interaction Weight: 0.726\n",
        "Mean Ranks over Position: 1.818\n",
        "  Components appearing at position: 11.0\n"
       ]
      }
     ],
     "prompt_number": 5
    },
    {
     "cell_type": "markdown",
     "metadata": {},
     "source": [
      "Rank of substrate and product to their corresponding enzyme"
     ]
    },
    {
     "cell_type": "code",
     "collapsed": false,
     "input": [
      "HTML(pE.ligand_rankings_html())"
     ],
     "language": "python",
     "metadata": {},
     "outputs": [
      {
       "html": [
        "<table><tr>\n",
        "                        <th>Enzyme</th>\n",
        "                        <th>Substrate rank from individual docking run</th>\n",
        "                        <th>Product rank from individual docking run</th>\n",
        "                        <th>Substrate rank by integrated approach</th>\n",
        "                        <th>Product rank by integrated approach</th>\n",
        "                        <th>Interaction rank by integrated approach</th>\n",
        "                        </tr><tr><td>1</td>\n",
        "                                 <td>3351</td>\n",
        "                                 <td>3276</td>\n",
        "                                 <td>1</td>\n",
        "                                 <td>1</td>\n",
        "                                 <td>2</td>\n",
        "                             </tr><tr><td>2</td>\n",
        "                                 <td>9</td>\n",
        "                                 <td>6</td>\n",
        "                                 <td>1</td>\n",
        "                                 <td>1</td>\n",
        "                                 <td>1</td>\n",
        "                             </tr><tr><td>3</td>\n",
        "                                 <td>4</td>\n",
        "                                 <td>250</td>\n",
        "                                 <td>1</td>\n",
        "                                 <td>1</td>\n",
        "                                 <td>1</td>\n",
        "                             </tr><tr><td>4</td>\n",
        "                                 <td>913</td>\n",
        "                                 <td>806</td>\n",
        "                                 <td>1</td>\n",
        "                                 <td>1</td>\n",
        "                                 <td>2</td>\n",
        "                             </tr><tr><td>5</td>\n",
        "                                 <td>2003</td>\n",
        "                                 <td>1472</td>\n",
        "                                 <td>1</td>\n",
        "                                 <td>1</td>\n",
        "                                 <td>1</td>\n",
        "                             </tr></table>"
       ],
       "output_type": "pyout",
       "prompt_number": 6,
       "text": [
        "<IPython.core.display.HTML at 0x4daa2d0>"
       ]
      }
     ],
     "prompt_number": 6
    },
    {
     "cell_type": "markdown",
     "metadata": {},
     "source": [
      "Frequency of enzyme occuring in pathway model ensemble at every position"
     ]
    },
    {
     "cell_type": "code",
     "collapsed": false,
     "input": [
      "HTML(pE.enzyme_pos_html())"
     ],
     "language": "python",
     "metadata": {},
     "outputs": [
      {
       "html": [
        "<strong>Columns: Enzyme, Rows: Position</strong><table border=\"1\" class=\"dataframe\">\n",
        "  <thead>\n",
        "    <tr style=\"text-align: right;\">\n",
        "      <th></th>\n",
        "      <th>1</th>\n",
        "      <th>2</th>\n",
        "      <th>3</th>\n",
        "      <th>4</th>\n",
        "      <th>5</th>\n",
        "    </tr>\n",
        "  </thead>\n",
        "  <tbody>\n",
        "    <tr>\n",
        "      <th>1</th>\n",
        "      <td>37.4</td>\n",
        "      <td>62.6</td>\n",
        "      <td> 0.0</td>\n",
        "      <td> 0.0</td>\n",
        "      <td> 0.0</td>\n",
        "    </tr>\n",
        "    <tr>\n",
        "      <th>2</th>\n",
        "      <td> 0.0</td>\n",
        "      <td>35.2</td>\n",
        "      <td>64.8</td>\n",
        "      <td> 0.0</td>\n",
        "      <td> 0.0</td>\n",
        "    </tr>\n",
        "    <tr>\n",
        "      <th>3</th>\n",
        "      <td> 1.1</td>\n",
        "      <td> 2.2</td>\n",
        "      <td>35.2</td>\n",
        "      <td>61.5</td>\n",
        "      <td> 0.0</td>\n",
        "    </tr>\n",
        "    <tr>\n",
        "      <th>4</th>\n",
        "      <td> 0.0</td>\n",
        "      <td> 0.0</td>\n",
        "      <td> 0.0</td>\n",
        "      <td>38.5</td>\n",
        "      <td>61.5</td>\n",
        "    </tr>\n",
        "    <tr>\n",
        "      <th>5</th>\n",
        "      <td>61.5</td>\n",
        "      <td> 0.0</td>\n",
        "      <td> 0.0</td>\n",
        "      <td> 0.0</td>\n",
        "      <td>38.5</td>\n",
        "    </tr>\n",
        "  </tbody>\n",
        "</table>"
       ],
       "output_type": "pyout",
       "prompt_number": 7,
       "text": [
        "<IPython.core.display.HTML at 0x4daa7d0>"
       ]
      }
     ],
     "prompt_number": 7
    },
    {
     "cell_type": "markdown",
     "metadata": {},
     "source": [
      "By position going across, the component (metabolite or protein) is ordered vertically by frequency occuring at that position in the ensemble of pathway models"
     ]
    },
    {
     "cell_type": "code",
     "collapsed": false,
     "input": [
      "HTML(pE.get_html_table(percent_cutoff=.05, enz_percent_cutoff=0.15, urlstring_to_image='http://zinc.docking.org/img/sub/%s.gif'))"
     ],
     "language": "python",
     "metadata": {},
     "outputs": [
      {
       "html": [
        "<table class=\"results\"><tr><th class=\"correct\" colspan=\"13\">Correct Pathway</th></tr><tr><td class=\"correct\"><div class=\"container\"><div id=\"ZINC03869933\" class=\"ligand\"></div>\n",
        "                                 <img src='http://zinc.docking.org/img/sub/3869933.gif' alt='ZINC03869933'/></div>\n",
        "                                 </td><td class=\"correct\" id=\"E1\"><div class=\"enzyme\">1</div></td><td class=\"correct\"><div class=\"container\"><div id=\"ZINC03869279\" class=\"ligand\"></div>\n",
        "                                 <img src='http://zinc.docking.org/img/sub/3869279.gif' alt='ZINC03869279'/></div>\n",
        "                                 </td><td class=\"correct\" id=\"E2\"><div class=\"enzyme\">2</div></td><td class=\"correct\"><div class=\"container\"><div id=\"ZINC03869280\" class=\"ligand\"></div>\n",
        "                                 <img src='http://zinc.docking.org/img/sub/3869280.gif' alt='ZINC03869280'/></div>\n",
        "                                 </td><td class=\"correct\" id=\"E3\"><div class=\"enzyme\">3</div></td><td class=\"correct\"><div class=\"container\"><div id=\"ZINC00895034\" class=\"ligand\"></div>\n",
        "                                 <img src='http://zinc.docking.org/img/sub/895034.gif' alt='ZINC00895034'/></div>\n",
        "                                 </td><td class=\"correct\" id=\"E4\"><div class=\"enzyme\">4</div></td><td class=\"correct\"><div class=\"container\"><div id=\"ZINC00895446\" class=\"ligand\"></div>\n",
        "                                 <img src='http://zinc.docking.org/img/sub/895446.gif' alt='ZINC00895446'/></div>\n",
        "                                 </td><td class=\"correct\" id=\"E5\"><div class=\"enzyme\">5</div></td><td class=\"correct\"><div class=\"container\"><div id=\"ZINC00895042\" class=\"ligand\"></div>\n",
        "                                 <img src='http://zinc.docking.org/img/sub/895042.gif' alt='ZINC00895042'/></div>\n",
        "                                 </td></tr><th colspan=\"13\">Predicted Pathways</th><tr><td><div class=\"container\"><div id=\"ZINC03869279\" class=\"ligand\"></div><img src='http://zinc.docking.org/img/sub/3869279.gif' alt='ZINC03869279'/></div></td><td><div class=\"enzyme\">2</div></td><td><div class=\"container\"><div id=\"ZINC03869280\" class=\"ligand\"></div><img src='http://zinc.docking.org/img/sub/3869280.gif' alt='ZINC03869280'/></div></td><td><div class=\"enzyme\">3</div></td><td><div class=\"container\"><div id=\"ZINC00895034\" class=\"ligand\"></div><img src='http://zinc.docking.org/img/sub/895034.gif' alt='ZINC00895034'/></div></td><td><div class=\"enzyme\">4</div></td><td><div class=\"container\"><div id=\"ZINC00895446\" class=\"ligand\"></div><img src='http://zinc.docking.org/img/sub/895446.gif' alt='ZINC00895446'/></div></td><td><div class=\"enzyme\">5</div></td><td><div class=\"container match\"><div class=\"ligand\" id=\"ZINC00895446\"></div><img src='http://zinc.docking.org/img/sub/895446.gif' alt='ZINC00895446'/></div></td><td><div class=\"enzyme\">1</div></td><td><div class=\"container match\"><div class=\"ligand\" id=\"ZINC00895042\"></div><img src='http://zinc.docking.org/img/sub/895042.gif' alt='ZINC00895042'/></div></td></tr><tr><td><div class=\"container\"><div id=\"ZINC03869934\" class=\"ligand\"></div><img src='http://zinc.docking.org/img/sub/3869934.gif' alt='ZINC03869934'/></div></td><td><div class=\"enzyme match\" id=\"E1\">1</div></td><td><div class=\"container match\"><div class=\"ligand\" id=\"ZINC03869279\"></div><img src='http://zinc.docking.org/img/sub/3869279.gif' alt='ZINC03869279'/></div></td><td><div class=\"enzyme match\" id=\"E2\">2</div></td><td><div class=\"container match\"><div class=\"ligand\" id=\"ZINC03869280\"></div><img src='http://zinc.docking.org/img/sub/3869280.gif' alt='ZINC03869280'/></div></td><td><div class=\"enzyme match\" id=\"E3\">3</div></td><td><div class=\"container match\"><div class=\"ligand\" id=\"ZINC00895034\"></div><img src='http://zinc.docking.org/img/sub/895034.gif' alt='ZINC00895034'/></div></td><td><div class=\"enzyme match\" id=\"E4\">4</div></td><td><div class=\"container\"><div id=\"ZINC02040884\" class=\"ligand\"></div><img src='http://zinc.docking.org/img/sub/2040884.gif' alt='ZINC02040884'/></div></td><td><div class=\"enzyme match\" id=\"E5\">5</div></td><td></td></tr><tr><td><div class=\"container match\"><div class=\"ligand\" id=\"ZINC03869933\"></div><img src='http://zinc.docking.org/img/sub/3869933.gif' alt='ZINC03869933'/></div></td><td></td><td></td><td></td><td></td><td><div class=\"enzyme\">2</div></td><td></td><td></td><td><div class=\"container\"><div id=\"ZINC03869787\" class=\"ligand\"></div><img src='http://zinc.docking.org/img/sub/3869787.gif' alt='ZINC03869787'/></div></td><td></td><td></td></tr><tr><td></td><td></td><td></td><td></td><td></td><td><div class=\"enzyme\">1</div></td><td></td><td></td><td></td><td></td><td></td></tr></table><style type=\"text/css\">\n",
        ".match {\n",
        "    font-size: 1.5em;\n",
        "    //font-weight: bold\n",
        "}\n",
        "table.results, .results td, .results th {\n",
        "    border: 1px solid gray\n",
        "}\n",
        ".results th {\n",
        "    padding: 5px;\n",
        "    font-size: 1.5em\n",
        "}\n",
        "table.results {\n",
        "    border-collapse: collapse;\n",
        "    font-family: \"Helvetica\"\n",
        "}\n",
        "table.results >> td {\n",
        "    height: 100px;\n",
        "    width: auto;\n",
        "    padding: 0;\n",
        "    margin: 0;\n",
        "    text-align: center;\n",
        "    vertical-align: middle;\n",
        "}\n",
        "div.enzyme {\n",
        "    text-align: center;\n",
        "    font-size: 1.5em;\n",
        "    padding-left: .8em;\n",
        "    padding-right: .8em;\n",
        "    //border: 2px hidden black;\n",
        "}\n",
        "div.ligand {\n",
        "    opacity: 0.4;\n",
        "    top:0;\n",
        "    width: 100%;\n",
        "    height: 100%;\n",
        "    position: absolute;\n",
        "    border-radius: 15px;\n",
        "    z-index: 0\n",
        "}\n",
        "div.container {\n",
        "    height: 100%;\n",
        "    width: auto;\n",
        "    position:relative;\n",
        "    text-align: center\n",
        "}\n",
        ".results img {\n",
        "    height: 100px;\n",
        "    width: auto;\n",
        "    border-radius: 15px\n",
        "    \n",
        "}\n",
        "</style>\n",
        "<style type=\"text/css\">\n",
        "                #ZINC03869933 {\n",
        "                    background-color: #e50000\n",
        "                }\n",
        "                \n",
        "                #ZINC03869279 {\n",
        "                    background-color: #e5da00\n",
        "                }\n",
        "                \n",
        "                #ZINC03869280 {\n",
        "                    background-color: #16e500\n",
        "                }\n",
        "                \n",
        "                #ZINC00895034 {\n",
        "                    background-color: #00e5c3\n",
        "                }\n",
        "                \n",
        "                #ZINC00895446 {\n",
        "                    background-color: #002de5\n",
        "                }\n",
        "                \n",
        "                #ZINC00895042 {\n",
        "                    background-color: #ac00e5\n",
        "                }\n",
        "                </style>"
       ],
       "output_type": "pyout",
       "prompt_number": 8,
       "text": [
        "<IPython.core.display.HTML at 0x4b035d0>"
       ]
      }
     ],
     "prompt_number": 8
    },
    {
     "cell_type": "markdown",
     "metadata": {},
     "source": [
      "Test to evaluate the sampling coverage. For an increasing number of runs, the number of unique clusters observed from those runs were plotted. For each N number of runs, the cluster counts were repeated 50 times with a different group of N runs chosen at random."
     ]
    },
    {
     "cell_type": "code",
     "collapsed": false,
     "input": [
      "incre = 20\n",
      "maxruns = 2000\n",
      "fig = plt.figure(figsize=(10, 8))\n",
      "ax = plt.subplot(1, 1, 1)\n",
      "x = pE.conv_test_means\n",
      "errs = pE.conv_test_stds\n",
      "ax.errorbar(1+incre*np.arange(len(x[0:maxruns:incre])), np.array(x[0:maxruns:incre]), fmt='o-', yerr=np.array(errs[0:maxruns:incre]))\n",
      "ax.axhline(max(x), ls='--', color='#333333', lw=2)\n",
      "ax.set_ylabel('Clusters observed')\n",
      "ax.set_xlabel('Number of runs')\n",
      "ax.set_ylim(bottom=0, top = 1.1*np.max(x))\n",
      "ax.xaxis.labelpad = 5\n",
      "ax.yaxis.labelpad = 5\n",
      "plt.show()"
     ],
     "language": "python",
     "metadata": {},
     "outputs": [
      {
       "output_type": "display_data",
       "png": "[encoded data removed]"
      }
     ],
     "prompt_number": 9
    },
    {
     "cell_type": "markdown",
     "metadata": {},
     "source": [
      "__________________________________________________"
     ]
    },
    {
     "cell_type": "heading",
     "level": 2,
     "metadata": {},
     "source": [
      "Predicting serine biosynthesis pathway with dummy enzyme in candidate set in place of known enzyme"
     ]
    },
    {
     "cell_type": "markdown",
     "metadata": {},
     "source": [
      "In the candidate set of enzymes, we replaced one enzyme with a dummy enzyme and test whether we can still reconstruct the pathway."
     ]
    },
    {
     "cell_type": "code",
     "collapsed": false,
     "input": [
      "picklefile = 'ser_dummy_1sd.pickle'\n",
      "datafile = '/salilab/park2/scalhoun/cluster_output/ser/ser_data_sea.h5'\n",
      "enzs = ['1', '2', '3', 'D', '5']\n",
      "ligands = ['ZINC03869933',\n",
      "           'ZINC03869279',\n",
      "           'ZINC03869280',\n",
      "           'ZINC00895034',\n",
      "           'ZINC00895446',\n",
      "           'ZINC00895042']"
     ],
     "language": "python",
     "metadata": {},
     "outputs": [],
     "prompt_number": 10
    },
    {
     "cell_type": "markdown",
     "metadata": {},
     "source": [
      "Load the pathway models from the output pickle file and data"
     ]
    },
    {
     "cell_type": "code",
     "collapsed": false,
     "input": [
      "pE = pathens(datafile=datafile)\n",
      "pE.set_all_enzymes(enzs)\n",
      "pE.set_true_enzymes(enzs)\n",
      "pE.set_true_ligands(ligands)\n",
      "pE.set_true_path()\n",
      "pE.load_data_from_analysis_pickle(picklefile)\n",
      "pE.make_position_matrices()\n",
      "print 'Number of unique paths: %d' % len(pE.uniqpathstrs)"
     ],
     "language": "python",
     "metadata": {},
     "outputs": [
      {
       "output_type": "stream",
       "stream": "stdout",
       "text": [
        "Number of unique paths: 213\n"
       ]
      }
     ],
     "prompt_number": 11
    },
    {
     "cell_type": "markdown",
     "metadata": {},
     "source": [
      "Find the rank of the pathway model that matches the true pathway with the dummy enzyme in place of the missing enzyme"
     ]
    },
    {
     "cell_type": "code",
     "collapsed": false,
     "input": [
      "score = pE.np_path_array['obj'][pE.np_path_array['strrepr'] == pE.true_path]\n",
      "print 'Rank of correct path: %d' % (np.sum(pE.np_path_array['obj'] > score) + 1)\n",
      "HTML(pathstring_to_table(pE.true_path))"
     ],
     "language": "python",
     "metadata": {},
     "outputs": [
      {
       "output_type": "stream",
       "stream": "stdout",
       "text": [
        "Rank of correct path: 1\n"
       ]
      },
      {
       "html": [
        "<tr><td><img src='http://zinc.docking.org/img/sub/3869933.gif' alt='ZINC03869933'/></td><td style=\"padding: 15px\"><strong>1</strong></td><td><img src='http://zinc.docking.org/img/sub/3869279.gif' alt='ZINC03869279'/></td><td style=\"padding: 15px\"><strong>2</strong></td><td><img src='http://zinc.docking.org/img/sub/3869280.gif' alt='ZINC03869280'/></td><td style=\"padding: 15px\"><strong>3</strong></td><td><img src='http://zinc.docking.org/img/sub/895034.gif' alt='ZINC00895034'/></td><td style=\"padding: 15px\"><strong>D</strong></td><td><img src='http://zinc.docking.org/img/sub/895446.gif' alt='ZINC00895446'/></td><td style=\"padding: 15px\"><strong>5</strong></td><td><img src='http://zinc.docking.org/img/sub/895042.gif' alt='ZINC00895042'/></td></tr>"
       ],
       "output_type": "pyout",
       "prompt_number": 12,
       "text": [
        "<IPython.core.display.HTML at 0x5067290>"
       ]
      }
     ],
     "prompt_number": 12
    },
    {
     "cell_type": "markdown",
     "metadata": {},
     "source": [
      "Rank of substrate and product to their corresponding enzyme"
     ]
    },
    {
     "cell_type": "code",
     "collapsed": false,
     "input": [
      "HTML(pE.ligand_rankings_html())"
     ],
     "language": "python",
     "metadata": {},
     "outputs": [
      {
       "html": [
        "<table><tr>\n",
        "                        <th>Enzyme</th>\n",
        "                        <th>Substrate rank from individual docking run</th>\n",
        "                        <th>Product rank from individual docking run</th>\n",
        "                        <th>Substrate rank by integrated approach</th>\n",
        "                        <th>Product rank by integrated approach</th>\n",
        "                        <th>Interaction rank by integrated approach</th>\n",
        "                        </tr><tr><td>1</td>\n",
        "                                 <td>3351</td>\n",
        "                                 <td>3276</td>\n",
        "                                 <td>25</td>\n",
        "                                 <td>10</td>\n",
        "                                 <td>41</td>\n",
        "                             </tr><tr><td>2</td>\n",
        "                                 <td>9</td>\n",
        "                                 <td>6</td>\n",
        "                                 <td>1</td>\n",
        "                                 <td>1</td>\n",
        "                                 <td>1</td>\n",
        "                             </tr><tr><td>3</td>\n",
        "                                 <td>4</td>\n",
        "                                 <td>250</td>\n",
        "                                 <td>1</td>\n",
        "                                 <td>1</td>\n",
        "                                 <td>1</td>\n",
        "                             </tr><tr><td>D</td>\n",
        "                                 <td>-1</td>\n",
        "                                 <td>-1</td>\n",
        "                                 <td>13</td>\n",
        "                                 <td>13</td>\n",
        "                                 <td>19</td>\n",
        "                             </tr><tr><td>5</td>\n",
        "                                 <td>2003</td>\n",
        "                                 <td>1472</td>\n",
        "                                 <td>7</td>\n",
        "                                 <td>6</td>\n",
        "                                 <td>11</td>\n",
        "                             </tr></table>"
       ],
       "output_type": "pyout",
       "prompt_number": 13,
       "text": [
        "<IPython.core.display.HTML at 0x5067dd0>"
       ]
      }
     ],
     "prompt_number": 13
    },
    {
     "cell_type": "markdown",
     "metadata": {},
     "source": [
      "Frequency of enzyme occuring in pathway model ensemble at every position"
     ]
    },
    {
     "cell_type": "code",
     "collapsed": false,
     "input": [
      "HTML(pE.enzyme_pos_html())"
     ],
     "language": "python",
     "metadata": {},
     "outputs": [
      {
       "html": [
        "<strong>Columns: Enzyme, Rows: Position</strong><table border=\"1\" class=\"dataframe\">\n",
        "  <thead>\n",
        "    <tr style=\"text-align: right;\">\n",
        "      <th></th>\n",
        "      <th>1</th>\n",
        "      <th>2</th>\n",
        "      <th>3</th>\n",
        "      <th>D</th>\n",
        "      <th>5</th>\n",
        "    </tr>\n",
        "  </thead>\n",
        "  <tbody>\n",
        "    <tr>\n",
        "      <th>1</th>\n",
        "      <td> 5.6</td>\n",
        "      <td>50.2</td>\n",
        "      <td> 0.0</td>\n",
        "      <td>42.7</td>\n",
        "      <td> 1.4</td>\n",
        "    </tr>\n",
        "    <tr>\n",
        "      <th>2</th>\n",
        "      <td>43.2</td>\n",
        "      <td> 3.8</td>\n",
        "      <td>50.2</td>\n",
        "      <td> 2.8</td>\n",
        "      <td> 0.0</td>\n",
        "    </tr>\n",
        "    <tr>\n",
        "      <th>3</th>\n",
        "      <td> 8.5</td>\n",
        "      <td> 0.5</td>\n",
        "      <td> 3.8</td>\n",
        "      <td> 3.8</td>\n",
        "      <td>83.6</td>\n",
        "    </tr>\n",
        "    <tr>\n",
        "      <th>4</th>\n",
        "      <td>38.5</td>\n",
        "      <td>45.5</td>\n",
        "      <td> 0.5</td>\n",
        "      <td> 4.7</td>\n",
        "      <td>10.8</td>\n",
        "    </tr>\n",
        "    <tr>\n",
        "      <th>5</th>\n",
        "      <td> 4.2</td>\n",
        "      <td> 0.0</td>\n",
        "      <td>45.5</td>\n",
        "      <td>46.0</td>\n",
        "      <td> 4.2</td>\n",
        "    </tr>\n",
        "  </tbody>\n",
        "</table>"
       ],
       "output_type": "pyout",
       "prompt_number": 14,
       "text": [
        "<IPython.core.display.HTML at 0x50673d0>"
       ]
      }
     ],
     "prompt_number": 14
    }
   ],
   "metadata": {}
  }
 ]
}