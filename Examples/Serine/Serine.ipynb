{
 "cells": [
  {
   "cell_type": "markdown",
   "metadata": {},
   "source": [
    "# Serine/Cysteine biosynthesis pathway benchmark analysis"
   ]
  },
  {
   "cell_type": "markdown",
   "metadata": {},
   "source": [
    "###Benchmark pathway"
   ]
  },
  {
   "cell_type": "markdown",
   "metadata": {},
   "source": [
    "http://metacyc.org/META/NEW-IMAGE?type=PATHWAY&object=SERSYN-PWY\n",
    "\n",
    "http://metacyc.org/META/NEW-IMAGE?type=PATHWAY&object=CYSTSYN-PWY\n",
    "\n",
    "Caspi et al, Nucleic Acids Research 42:D459-D471 2014"
   ]
  },
  {
   "cell_type": "markdown",
   "metadata": {},
   "source": [
    "###Import libraries"
   ]
  },
  {
   "cell_type": "code",
   "execution_count": 1,
   "metadata": {
    "collapsed": false
   },
   "outputs": [
    {
     "name": "stdout",
     "output_type": "stream",
     "text": [
      "Populating the interactive namespace from numpy and matplotlib\n"
     ]
    }
   ],
   "source": [
    "%pylab inline\n",
    "import sys\n",
    "sys.path.append('/trombone1/home/scalhoun/bin/repo')\n",
    "\n",
    "from analyze_test import pathens\n",
    "from analyze_test import pathstring_to_table\n",
    "import numpy as np\n",
    "from IPython.display import HTML"
   ]
  },
  {
   "cell_type": "markdown",
   "metadata": {},
   "source": [
    "###Define file locations, input enzymes/ligands, and true pathway"
   ]
  },
  {
   "cell_type": "code",
   "execution_count": 7,
   "metadata": {
    "collapsed": false
   },
   "outputs": [],
   "source": [
    "picklefile = './output/ser_2sd.pickle'\n",
    "datafile = './data/ser_data.h5'\n",
    "enzs = ['1', '2', '3', '4', '5']\n",
    "ligands = ['ZINC03869933',\n",
    "           'ZINC03869279',\n",
    "           'ZINC03869280',\n",
    "           'ZINC00895034',\n",
    "           'ZINC00895446',\n",
    "           'ZINC00895042']"
   ]
  },
  {
   "cell_type": "markdown",
   "metadata": {},
   "source": [
    "###Load the pathway models from the output pickle file and data"
   ]
  },
  {
   "cell_type": "code",
   "execution_count": 8,
   "metadata": {
    "collapsed": false
   },
   "outputs": [
    {
     "name": "stdout",
     "output_type": "stream",
     "text": [
      "Number of unique paths: 91\n",
      "Number of clusters: 5\n"
     ]
    }
   ],
   "source": [
    "pE = pathens(datafile=datafile)\n",
    "pE.set_all_enzymes(enzs)\n",
    "pE.set_true_enzymes(enzs)\n",
    "pE.set_true_ligands(ligands)\n",
    "pE.set_true_path()\n",
    "pE.load_data_from_analysis_pickle(picklefile)\n",
    "pE.make_position_matrices()\n",
    "print 'Number of unique paths: %d' % len(pE.uniqpathstrs)\n",
    "print 'Number of clusters: %d' % np.max(pE.flatclusters)"
   ]
  },
  {
   "cell_type": "markdown",
   "metadata": {},
   "source": [
    "###Find the rank of the pathway model that matches the true pathway"
   ]
  },
  {
   "cell_type": "code",
   "execution_count": 9,
   "metadata": {
    "collapsed": false
   },
   "outputs": [
    {
     "name": "stdout",
     "output_type": "stream",
     "text": [
      "Rank of true path: 1\n"
     ]
    },
    {
     "data": {
      "text/html": [
       "<tr><td><img src='http://zinc.docking.org/img/sub/3869933.gif' alt='ZINC03869933'/></td><td style=\"padding: 15px\"><strong>1</strong></td><td><img src='http://zinc.docking.org/img/sub/3869279.gif' alt='ZINC03869279'/></td><td style=\"padding: 15px\"><strong>2</strong></td><td><img src='http://zinc.docking.org/img/sub/3869280.gif' alt='ZINC03869280'/></td><td style=\"padding: 15px\"><strong>3</strong></td><td><img src='http://zinc.docking.org/img/sub/895034.gif' alt='ZINC00895034'/></td><td style=\"padding: 15px\"><strong>4</strong></td><td><img src='http://zinc.docking.org/img/sub/895446.gif' alt='ZINC00895446'/></td><td style=\"padding: 15px\"><strong>5</strong></td><td><img src='http://zinc.docking.org/img/sub/895042.gif' alt='ZINC00895042'/></td></tr>"
      ],
      "text/plain": [
       "<IPython.core.display.HTML object>"
      ]
     },
     "execution_count": 9,
     "metadata": {},
     "output_type": "execute_result"
    }
   ],
   "source": [
    "score = pE.np_path_array['obj'][pE.np_path_array['strrepr'] == pE.true_path]\n",
    "print 'Rank of true path: %d' % (np.sum(pE.np_path_array['obj'] > score) + 1)\n",
    "HTML(pathstring_to_table(pE.true_path))"
   ]
  },
  {
   "cell_type": "markdown",
   "metadata": {},
   "source": [
    "##Entropy by position"
   ]
  },
  {
   "cell_type": "markdown",
   "metadata": {},
   "source": [
    "For the ensemble of pathway models, determine the entropy averaged over positions, occurrence of correct interactions (averaged over all pathway positions), and ranks of correct components at each position"
   ]
  },
  {
   "cell_type": "code",
   "execution_count": 10,
   "metadata": {
    "collapsed": false
   },
   "outputs": [
    {
     "name": "stdout",
     "output_type": "stream",
     "text": [
      "Mean Entropy: 1.261\n",
      "Mean Interaction Weight: 0.726\n",
      "Mean Ranks over Position: 1.818\n",
      "  Components appearing at position: 11.0\n"
     ]
    }
   ],
   "source": [
    "pE.evaluate_accuracy_precision()"
   ]
  },
  {
   "cell_type": "markdown",
   "metadata": {},
   "source": [
    "###Rank of substrate and product to their corresponding enzyme"
   ]
  },
  {
   "cell_type": "code",
   "execution_count": 11,
   "metadata": {
    "collapsed": false
   },
   "outputs": [
    {
     "data": {
      "text/html": [
       "<table><tr>\n",
       "                        <th>Enzyme</th>\n",
       "                        <th>Substrate rank from individual docking run</th>\n",
       "                        <th>Product rank from individual docking run</th>\n",
       "                        <th>Substrate rank by integrated approach</th>\n",
       "                        <th>Product rank by integrated approach</th>\n",
       "                        <th>Interaction rank by integrated approach</th>\n",
       "                        </tr><tr><td>1</td>\n",
       "                                 <td>3351</td>\n",
       "                                 <td>3276</td>\n",
       "                                 <td>1</td>\n",
       "                                 <td>1</td>\n",
       "                                 <td>2</td>\n",
       "                             </tr><tr><td>2</td>\n",
       "                                 <td>9</td>\n",
       "                                 <td>6</td>\n",
       "                                 <td>1</td>\n",
       "                                 <td>1</td>\n",
       "                                 <td>1</td>\n",
       "                             </tr><tr><td>3</td>\n",
       "                                 <td>4</td>\n",
       "                                 <td>250</td>\n",
       "                                 <td>1</td>\n",
       "                                 <td>1</td>\n",
       "                                 <td>1</td>\n",
       "                             </tr><tr><td>4</td>\n",
       "                                 <td>913</td>\n",
       "                                 <td>806</td>\n",
       "                                 <td>1</td>\n",
       "                                 <td>1</td>\n",
       "                                 <td>2</td>\n",
       "                             </tr><tr><td>5</td>\n",
       "                                 <td>2003</td>\n",
       "                                 <td>1472</td>\n",
       "                                 <td>1</td>\n",
       "                                 <td>1</td>\n",
       "                                 <td>1</td>\n",
       "                             </tr></table>"
      ],
      "text/plain": [
       "<IPython.core.display.HTML object>"
      ]
     },
     "execution_count": 11,
     "metadata": {},
     "output_type": "execute_result"
    }
   ],
   "source": [
    "HTML(pE.ligand_rankings_html())"
   ]
  },
  {
   "cell_type": "markdown",
   "metadata": {},
   "source": [
    "###Frequency of enzyme occuring in pathway model ensemble at every position"
   ]
  },
  {
   "cell_type": "code",
   "execution_count": 12,
   "metadata": {
    "collapsed": false
   },
   "outputs": [
    {
     "data": {
      "text/html": [
       "<strong>Columns: Enzyme, Rows: Position</strong><table border=\"1\" class=\"dataframe\">\n",
       "  <thead>\n",
       "    <tr style=\"text-align: right;\">\n",
       "      <th></th>\n",
       "      <th>1</th>\n",
       "      <th>2</th>\n",
       "      <th>3</th>\n",
       "      <th>4</th>\n",
       "      <th>5</th>\n",
       "    </tr>\n",
       "  </thead>\n",
       "  <tbody>\n",
       "    <tr>\n",
       "      <th>1</th>\n",
       "      <td>37.4</td>\n",
       "      <td>62.6</td>\n",
       "      <td> 0.0</td>\n",
       "      <td> 0.0</td>\n",
       "      <td> 0.0</td>\n",
       "    </tr>\n",
       "    <tr>\n",
       "      <th>2</th>\n",
       "      <td> 0.0</td>\n",
       "      <td>35.2</td>\n",
       "      <td>64.8</td>\n",
       "      <td> 0.0</td>\n",
       "      <td> 0.0</td>\n",
       "    </tr>\n",
       "    <tr>\n",
       "      <th>3</th>\n",
       "      <td> 1.1</td>\n",
       "      <td> 2.2</td>\n",
       "      <td>35.2</td>\n",
       "      <td>61.5</td>\n",
       "      <td> 0.0</td>\n",
       "    </tr>\n",
       "    <tr>\n",
       "      <th>4</th>\n",
       "      <td> 0.0</td>\n",
       "      <td> 0.0</td>\n",
       "      <td> 0.0</td>\n",
       "      <td>38.5</td>\n",
       "      <td>61.5</td>\n",
       "    </tr>\n",
       "    <tr>\n",
       "      <th>5</th>\n",
       "      <td>61.5</td>\n",
       "      <td> 0.0</td>\n",
       "      <td> 0.0</td>\n",
       "      <td> 0.0</td>\n",
       "      <td>38.5</td>\n",
       "    </tr>\n",
       "  </tbody>\n",
       "</table>"
      ],
      "text/plain": [
       "<IPython.core.display.HTML object>"
      ]
     },
     "execution_count": 12,
     "metadata": {},
     "output_type": "execute_result"
    }
   ],
   "source": [
    "HTML(pE.enzyme_pos_html())"
   ]
  },
  {
   "cell_type": "markdown",
   "metadata": {},
   "source": [
    "##Accuracy by position"
   ]
  },
  {
   "cell_type": "markdown",
   "metadata": {},
   "source": [
    "By position going across, the component (metabolite or protein) is ordered vertically by frequency occuring at that position in the ensemble of pathway models"
   ]
  },
  {
   "cell_type": "code",
   "execution_count": 13,
   "metadata": {
    "collapsed": false
   },
   "outputs": [
    {
     "data": {
      "text/html": [
       "<table class=\"results\"><tr><th class=\"correct\" colspan=\"13\">Correct Pathway</th></tr><tr><td class=\"correct\"><div class=\"container\"><div id=\"ZINC03869933\" class=\"ligand\"></div>\n",
       "                                 <img src='http://zinc.docking.org/img/sub/3869933.gif' alt='ZINC03869933'/></div>\n",
       "                                 </td><td class=\"correct\" id=\"E1\"><div class=\"enzyme\">1</div></td><td class=\"correct\"><div class=\"container\"><div id=\"ZINC03869279\" class=\"ligand\"></div>\n",
       "                                 <img src='http://zinc.docking.org/img/sub/3869279.gif' alt='ZINC03869279'/></div>\n",
       "                                 </td><td class=\"correct\" id=\"E2\"><div class=\"enzyme\">2</div></td><td class=\"correct\"><div class=\"container\"><div id=\"ZINC03869280\" class=\"ligand\"></div>\n",
       "                                 <img src='http://zinc.docking.org/img/sub/3869280.gif' alt='ZINC03869280'/></div>\n",
       "                                 </td><td class=\"correct\" id=\"E3\"><div class=\"enzyme\">3</div></td><td class=\"correct\"><div class=\"container\"><div id=\"ZINC00895034\" class=\"ligand\"></div>\n",
       "                                 <img src='http://zinc.docking.org/img/sub/895034.gif' alt='ZINC00895034'/></div>\n",
       "                                 </td><td class=\"correct\" id=\"E4\"><div class=\"enzyme\">4</div></td><td class=\"correct\"><div class=\"container\"><div id=\"ZINC00895446\" class=\"ligand\"></div>\n",
       "                                 <img src='http://zinc.docking.org/img/sub/895446.gif' alt='ZINC00895446'/></div>\n",
       "                                 </td><td class=\"correct\" id=\"E5\"><div class=\"enzyme\">5</div></td><td class=\"correct\"><div class=\"container\"><div id=\"ZINC00895042\" class=\"ligand\"></div>\n",
       "                                 <img src='http://zinc.docking.org/img/sub/895042.gif' alt='ZINC00895042'/></div>\n",
       "                                 </td></tr><th colspan=\"13\">Predicted Pathways</th><tr><td><div class=\"container\"><div id=\"ZINC03869279\" class=\"ligand\"></div><img src='http://zinc.docking.org/img/sub/3869279.gif' alt='ZINC03869279'/></div></td><td><div class=\"enzyme\">2</div></td><td><div class=\"container\"><div id=\"ZINC03869280\" class=\"ligand\"></div><img src='http://zinc.docking.org/img/sub/3869280.gif' alt='ZINC03869280'/></div></td><td><div class=\"enzyme\">3</div></td><td><div class=\"container\"><div id=\"ZINC00895034\" class=\"ligand\"></div><img src='http://zinc.docking.org/img/sub/895034.gif' alt='ZINC00895034'/></div></td><td><div class=\"enzyme\">4</div></td><td><div class=\"container\"><div id=\"ZINC00895446\" class=\"ligand\"></div><img src='http://zinc.docking.org/img/sub/895446.gif' alt='ZINC00895446'/></div></td><td><div class=\"enzyme\">5</div></td><td><div class=\"container match\"><div class=\"ligand\" id=\"ZINC00895446\"></div><img src='http://zinc.docking.org/img/sub/895446.gif' alt='ZINC00895446'/></div></td><td><div class=\"enzyme\">1</div></td><td><div class=\"container match\"><div class=\"ligand\" id=\"ZINC00895042\"></div><img src='http://zinc.docking.org/img/sub/895042.gif' alt='ZINC00895042'/></div></td></tr><tr><td><div class=\"container\"><div id=\"ZINC03869934\" class=\"ligand\"></div><img src='http://zinc.docking.org/img/sub/3869934.gif' alt='ZINC03869934'/></div></td><td><div class=\"enzyme match\" id=\"E1\">1</div></td><td><div class=\"container match\"><div class=\"ligand\" id=\"ZINC03869279\"></div><img src='http://zinc.docking.org/img/sub/3869279.gif' alt='ZINC03869279'/></div></td><td><div class=\"enzyme match\" id=\"E2\">2</div></td><td><div class=\"container match\"><div class=\"ligand\" id=\"ZINC03869280\"></div><img src='http://zinc.docking.org/img/sub/3869280.gif' alt='ZINC03869280'/></div></td><td><div class=\"enzyme match\" id=\"E3\">3</div></td><td><div class=\"container match\"><div class=\"ligand\" id=\"ZINC00895034\"></div><img src='http://zinc.docking.org/img/sub/895034.gif' alt='ZINC00895034'/></div></td><td><div class=\"enzyme match\" id=\"E4\">4</div></td><td><div class=\"container\"><div id=\"ZINC02040884\" class=\"ligand\"></div><img src='http://zinc.docking.org/img/sub/2040884.gif' alt='ZINC02040884'/></div></td><td><div class=\"enzyme match\" id=\"E5\">5</div></td><td></td></tr><tr><td><div class=\"container match\"><div class=\"ligand\" id=\"ZINC03869933\"></div><img src='http://zinc.docking.org/img/sub/3869933.gif' alt='ZINC03869933'/></div></td><td></td><td></td><td></td><td></td><td><div class=\"enzyme\">2</div></td><td></td><td></td><td><div class=\"container\"><div id=\"ZINC03869787\" class=\"ligand\"></div><img src='http://zinc.docking.org/img/sub/3869787.gif' alt='ZINC03869787'/></div></td><td></td><td></td></tr><tr><td></td><td></td><td></td><td></td><td></td><td><div class=\"enzyme\">1</div></td><td></td><td></td><td></td><td></td><td></td></tr></table>\n",
       "                        <style type=\"text/css\">\n",
       "                        .match {\n",
       "                            font-size: 1.5em;\n",
       "                            //font-weight: bold\n",
       "                        }\n",
       "                        table.results, .results td, .results th {\n",
       "                            border: 1px solid gray\n",
       "                        }\n",
       "                        .results th {\n",
       "                            padding: 5px;\n",
       "                            font-size: 1.5em\n",
       "                        }\n",
       "                        table.results {\n",
       "                            border-collapse: collapse;\n",
       "                            font-family: \"Helvetica\"\n",
       "                        }\n",
       "                        table.results >> td {\n",
       "                            height: 100px;\n",
       "                            width: auto;\n",
       "                            padding: 0;\n",
       "                            margin: 0;\n",
       "                            text-align: center;\n",
       "                            vertical-align: middle;\n",
       "                        }\n",
       "                        div.enzyme {\n",
       "                            text-align: center;\n",
       "                            font-size: 1.5em;\n",
       "                            padding-left: .8em;\n",
       "                            padding-right: .8em;\n",
       "                            //border: 2px hidden black;\n",
       "                        }\n",
       "                        div.ligand {\n",
       "                            opacity: 0.4;\n",
       "                            top:0;\n",
       "                            width: 100%;\n",
       "                            height: 100%;\n",
       "                            position: absolute;\n",
       "                            border-radius: 15px;\n",
       "                            z-index: 0\n",
       "                        }\n",
       "                        div.container {\n",
       "                            //text-align: center;\n",
       "                            height: 100%;\n",
       "                            width: auto;\n",
       "                            position:relative\n",
       "                        }\n",
       "                        .results img {\n",
       "                            height: 100px;\n",
       "                            width: auto;\n",
       "                            border-radius: 15px\n",
       "                            \n",
       "                        }\n",
       "                        </style><style type=\"text/css\">\n",
       "                #ZINC03869933 {\n",
       "                    background-color: #e50000\n",
       "                }\n",
       "                \n",
       "                #ZINC03869279 {\n",
       "                    background-color: #e5da00\n",
       "                }\n",
       "                \n",
       "                #ZINC03869280 {\n",
       "                    background-color: #16e500\n",
       "                }\n",
       "                \n",
       "                #ZINC00895034 {\n",
       "                    background-color: #00e5c3\n",
       "                }\n",
       "                \n",
       "                #ZINC00895446 {\n",
       "                    background-color: #002de5\n",
       "                }\n",
       "                \n",
       "                #ZINC00895042 {\n",
       "                    background-color: #ac00e5\n",
       "                }\n",
       "                </style>"
      ],
      "text/plain": [
       "<IPython.core.display.HTML object>"
      ]
     },
     "execution_count": 13,
     "metadata": {},
     "output_type": "execute_result"
    }
   ],
   "source": [
    "HTML(pE.get_html_table(percent_cutoff=.05, enz_percent_cutoff=0.15, \n",
    "                       urlstring_to_image='http://zinc.docking.org/img/sub/%s.gif'))"
   ]
  },
  {
   "cell_type": "markdown",
   "metadata": {},
   "source": [
    "###Test to evaluate the sampling coverage. \n",
    "For an increasing number of runs, the number of unique clusters observed from those runs were plotted. For each N number of runs, the cluster counts were repeated 50 times with a different group of N runs chosen at random."
   ]
  },
  {
   "cell_type": "code",
   "execution_count": 15,
   "metadata": {
    "collapsed": false
   },
   "outputs": [
    {
     "data": {
      "image/png": "[encoded data removed]",
      "text/plain": [
       "<matplotlib.figure.Figure at 0x7fef49b20dd0>"
      ]
     },
     "metadata": {},
     "output_type": "display_data"
    }
   ],
   "source": [
    "pE.plot_convergence_by_runs(run_increment=50)"
   ]
  },
  {
   "cell_type": "markdown",
   "metadata": {},
   "source": [
    "__________________________________________________"
   ]
  },
  {
   "cell_type": "markdown",
   "metadata": {},
   "source": [
    "## Predicting serine biosynthesis pathway with dummy enzyme in candidate set in place of known enzyme"
   ]
  },
  {
   "cell_type": "markdown",
   "metadata": {},
   "source": [
    "###In the candidate set of enzymes, we replaced one enzyme with a dummy enzyme and test whether we can still reconstruct the pathway."
   ]
  },
  {
   "cell_type": "code",
   "execution_count": 16,
   "metadata": {
    "collapsed": false
   },
   "outputs": [],
   "source": [
    "picklefile = './output/ser_dummy_1sd.pickle'\n",
    "datafile = './data/ser_data.h5'\n",
    "enzs = ['1', '2', '3', 'D', '5']\n",
    "ligands = ['ZINC03869933',\n",
    "           'ZINC03869279',\n",
    "           'ZINC03869280',\n",
    "           'ZINC00895034',\n",
    "           'ZINC00895446',\n",
    "           'ZINC00895042']"
   ]
  },
  {
   "cell_type": "markdown",
   "metadata": {},
   "source": [
    "###Load the pathway models from the output pickle file and data"
   ]
  },
  {
   "cell_type": "code",
   "execution_count": 17,
   "metadata": {
    "collapsed": false
   },
   "outputs": [
    {
     "name": "stdout",
     "output_type": "stream",
     "text": [
      "Number of unique paths: 213\n"
     ]
    }
   ],
   "source": [
    "pE = pathens(datafile=datafile)\n",
    "pE.set_all_enzymes(enzs)\n",
    "pE.set_true_enzymes(enzs)\n",
    "pE.set_true_ligands(ligands)\n",
    "pE.set_true_path()\n",
    "pE.load_data_from_analysis_pickle(picklefile)\n",
    "pE.make_position_matrices()\n",
    "print 'Number of unique paths: %d' % len(pE.uniqpathstrs)"
   ]
  },
  {
   "cell_type": "markdown",
   "metadata": {},
   "source": [
    "###Find the rank of the pathway model that matches the true pathway with the dummy enzyme in place of the missing enzyme"
   ]
  },
  {
   "cell_type": "code",
   "execution_count": 18,
   "metadata": {
    "collapsed": false
   },
   "outputs": [
    {
     "name": "stdout",
     "output_type": "stream",
     "text": [
      "Rank of correct path: 1\n"
     ]
    },
    {
     "data": {
      "text/html": [
       "<tr><td><img src='http://zinc.docking.org/img/sub/3869933.gif' alt='ZINC03869933'/></td><td style=\"padding: 15px\"><strong>1</strong></td><td><img src='http://zinc.docking.org/img/sub/3869279.gif' alt='ZINC03869279'/></td><td style=\"padding: 15px\"><strong>2</strong></td><td><img src='http://zinc.docking.org/img/sub/3869280.gif' alt='ZINC03869280'/></td><td style=\"padding: 15px\"><strong>3</strong></td><td><img src='http://zinc.docking.org/img/sub/895034.gif' alt='ZINC00895034'/></td><td style=\"padding: 15px\"><strong>D</strong></td><td><img src='http://zinc.docking.org/img/sub/895446.gif' alt='ZINC00895446'/></td><td style=\"padding: 15px\"><strong>5</strong></td><td><img src='http://zinc.docking.org/img/sub/895042.gif' alt='ZINC00895042'/></td></tr>"
      ],
      "text/plain": [
       "<IPython.core.display.HTML object>"
      ]
     },
     "execution_count": 18,
     "metadata": {},
     "output_type": "execute_result"
    }
   ],
   "source": [
    "score = pE.np_path_array['obj'][pE.np_path_array['strrepr'] == pE.true_path]\n",
    "print 'Rank of correct path: %d' % (np.sum(pE.np_path_array['obj'] > score) + 1)\n",
    "HTML(pathstring_to_table(pE.true_path))"
   ]
  },
  {
   "cell_type": "markdown",
   "metadata": {},
   "source": [
    "###Rank of substrate and product to their corresponding enzyme"
   ]
  },
  {
   "cell_type": "code",
   "execution_count": 19,
   "metadata": {
    "collapsed": false
   },
   "outputs": [
    {
     "data": {
      "text/html": [
       "<table><tr>\n",
       "                        <th>Enzyme</th>\n",
       "                        <th>Substrate rank from individual docking run</th>\n",
       "                        <th>Product rank from individual docking run</th>\n",
       "                        <th>Substrate rank by integrated approach</th>\n",
       "                        <th>Product rank by integrated approach</th>\n",
       "                        <th>Interaction rank by integrated approach</th>\n",
       "                        </tr><tr><td>1</td>\n",
       "                                 <td>3351</td>\n",
       "                                 <td>3276</td>\n",
       "                                 <td>25</td>\n",
       "                                 <td>10</td>\n",
       "                                 <td>41</td>\n",
       "                             </tr><tr><td>2</td>\n",
       "                                 <td>9</td>\n",
       "                                 <td>6</td>\n",
       "                                 <td>1</td>\n",
       "                                 <td>1</td>\n",
       "                                 <td>1</td>\n",
       "                             </tr><tr><td>3</td>\n",
       "                                 <td>4</td>\n",
       "                                 <td>250</td>\n",
       "                                 <td>1</td>\n",
       "                                 <td>1</td>\n",
       "                                 <td>1</td>\n",
       "                             </tr><tr><td>D</td>\n",
       "                                 <td>-1</td>\n",
       "                                 <td>-1</td>\n",
       "                                 <td>13</td>\n",
       "                                 <td>13</td>\n",
       "                                 <td>19</td>\n",
       "                             </tr><tr><td>5</td>\n",
       "                                 <td>2003</td>\n",
       "                                 <td>1472</td>\n",
       "                                 <td>7</td>\n",
       "                                 <td>6</td>\n",
       "                                 <td>11</td>\n",
       "                             </tr></table>"
      ],
      "text/plain": [
       "<IPython.core.display.HTML object>"
      ]
     },
     "execution_count": 19,
     "metadata": {},
     "output_type": "execute_result"
    }
   ],
   "source": [
    "HTML(pE.ligand_rankings_html())"
   ]
  },
  {
   "cell_type": "markdown",
   "metadata": {},
   "source": [
    "###Frequency of enzyme occuring in pathway model ensemble at every position"
   ]
  },
  {
   "cell_type": "code",
   "execution_count": 20,
   "metadata": {
    "collapsed": false
   },
   "outputs": [
    {
     "data": {
      "text/html": [
       "<strong>Columns: Enzyme, Rows: Position</strong><table border=\"1\" class=\"dataframe\">\n",
       "  <thead>\n",
       "    <tr style=\"text-align: right;\">\n",
       "      <th></th>\n",
       "      <th>1</th>\n",
       "      <th>2</th>\n",
       "      <th>3</th>\n",
       "      <th>D</th>\n",
       "      <th>5</th>\n",
       "    </tr>\n",
       "  </thead>\n",
       "  <tbody>\n",
       "    <tr>\n",
       "      <th>1</th>\n",
       "      <td> 5.6</td>\n",
       "      <td>50.2</td>\n",
       "      <td> 0.0</td>\n",
       "      <td>42.7</td>\n",
       "      <td> 1.4</td>\n",
       "    </tr>\n",
       "    <tr>\n",
       "      <th>2</th>\n",
       "      <td>43.2</td>\n",
       "      <td> 3.8</td>\n",
       "      <td>50.2</td>\n",
       "      <td> 2.8</td>\n",
       "      <td> 0.0</td>\n",
       "    </tr>\n",
       "    <tr>\n",
       "      <th>3</th>\n",
       "      <td> 8.5</td>\n",
       "      <td> 0.5</td>\n",
       "      <td> 3.8</td>\n",
       "      <td> 3.8</td>\n",
       "      <td>83.6</td>\n",
       "    </tr>\n",
       "    <tr>\n",
       "      <th>4</th>\n",
       "      <td>38.5</td>\n",
       "      <td>45.5</td>\n",
       "      <td> 0.5</td>\n",
       "      <td> 4.7</td>\n",
       "      <td>10.8</td>\n",
       "    </tr>\n",
       "    <tr>\n",
       "      <th>5</th>\n",
       "      <td> 4.2</td>\n",
       "      <td> 0.0</td>\n",
       "      <td>45.5</td>\n",
       "      <td>46.0</td>\n",
       "      <td> 4.2</td>\n",
       "    </tr>\n",
       "  </tbody>\n",
       "</table>"
      ],
      "text/plain": [
       "<IPython.core.display.HTML object>"
      ]
     },
     "execution_count": 20,
     "metadata": {},
     "output_type": "execute_result"
    }
   ],
   "source": [
    "HTML(pE.enzyme_pos_html())"
   ]
  }
 ],
 "metadata": {
  "kernelspec": {
   "display_name": "Python 2",
   "language": "python",
   "name": "python2"
  },
  "language_info": {
   "codemirror_mode": {
    "name": "ipython",
    "version": 2
   },
   "file_extension": ".py",
   "mimetype": "text/x-python",
   "name": "python",
   "nbconvert_exporter": "python",
   "pygments_lexer": "ipython2",
   "version": "2.7.12"
  }
 },
 "nbformat": 4,
 "nbformat_minor": 0
}
