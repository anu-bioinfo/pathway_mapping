{
 "cells": [
  {
   "cell_type": "markdown",
   "metadata": {},
   "source": [
    "# L-gulonate degradation pathway"
   ]
  },
  {
   "cell_type": "markdown",
   "metadata": {},
   "source": [
    "##Import libraries"
   ]
  },
  {
   "cell_type": "code",
   "execution_count": 1,
   "metadata": {
    "collapsed": false
   },
   "outputs": [
    {
     "name": "stdout",
     "output_type": "stream",
     "text": [
      "Populating the interactive namespace from numpy and matplotlib\n"
     ]
    }
   ],
   "source": [
    "%pylab inline\n",
    "\n",
    "import sys\n",
    "sys.path.append('/trombone1/home/scalhoun/bin/repo')\n",
    "\n",
    "from analyze_test import pathens\n",
    "import numpy as np\n",
    "from IPython.display import HTML"
   ]
  },
  {
   "cell_type": "markdown",
   "metadata": {},
   "source": [
    "##Define file locations and input enzymes\n",
    "Also, defining validated pathway for comparison"
   ]
  },
  {
   "cell_type": "code",
   "execution_count": 2,
   "metadata": {
    "collapsed": false
   },
   "outputs": [],
   "source": [
    "picklefile = './output/gul_2sd.pickle'\n",
    "datafile = './data/gulonate.h5'\n",
    "enzs = ['0', '1', '2', '3', '4', '5']\n",
    "ligands = ['ZINC03869787',\n",
    "           'ZINC04095492',\n",
    "           'ZINC02040884',\n",
    "           'ZINC01532568',\n",
    "           'ZINC01529165',\n",
    "           'ZINC03869936']"
   ]
  },
  {
   "cell_type": "markdown",
   "metadata": {},
   "source": [
    "##Load the pathway models from the output pickle file and data"
   ]
  },
  {
   "cell_type": "code",
   "execution_count": 3,
   "metadata": {
    "collapsed": false
   },
   "outputs": [
    {
     "name": "stdout",
     "output_type": "stream",
     "text": [
      "Number of unique paths: 154\n",
      "Number of clusters: 12\n"
     ]
    }
   ],
   "source": [
    "pE = pathens(datafile=datafile)\n",
    "pE.set_all_enzymes(enzs)\n",
    "pE.set_true_enzymes(enzs)\n",
    "pE.set_true_ligands(ligands)\n",
    "pE.set_true_path(startposition=1)\n",
    "pE.load_data_from_analysis_pickle(picklefile)\n",
    "pE.make_position_matrices(startposition=1)\n",
    "print 'Number of unique paths: %d' % len(pE.uniqpathstrs)\n",
    "print 'Number of clusters: %d' % np.max(pE.flatclusters)"
   ]
  },
  {
   "cell_type": "markdown",
   "metadata": {},
   "source": [
    "##Rank of the validated pathway"
   ]
  },
  {
   "cell_type": "code",
   "execution_count": 11,
   "metadata": {
    "collapsed": false
   },
   "outputs": [
    {
     "name": "stdout",
     "output_type": "stream",
     "text": [
      "Rank of hypothesized path: 1\n"
     ]
    },
    {
     "data": {
      "text/html": [
       "<tr><td style=\"padding: 15px\"><strong>0</strong></td><td><img src='http://zinc.docking.org/img/sub/3869787.gif' alt='ZINC03869787'/></td><td style=\"padding: 15px\"><strong>1</strong></td><td><img src='http://zinc.docking.org/img/sub/4095492.gif' alt='ZINC04095492'/></td><td style=\"padding: 15px\"><strong>2</strong></td><td><img src='http://zinc.docking.org/img/sub/2040884.gif' alt='ZINC02040884'/></td><td style=\"padding: 15px\"><strong>3</strong></td><td><img src='http://zinc.docking.org/img/sub/1532568.gif' alt='ZINC01532568'/></td><td style=\"padding: 15px\"><strong>4</strong></td><td><img src='http://zinc.docking.org/img/sub/1529165.gif' alt='ZINC01529165'/></td><td style=\"padding: 15px\"><strong>5</strong></td><td><img src='http://zinc.docking.org/img/sub/3869936.gif' alt='ZINC03869936'/></td></tr>"
      ],
      "text/plain": [
       "<IPython.core.display.HTML object>"
      ]
     },
     "execution_count": 11,
     "metadata": {},
     "output_type": "execute_result"
    }
   ],
   "source": [
    "score = pE.np_path_array['obj'][pE.np_path_array['strrepr'] == pE.true_path]\n",
    "print 'Rank of hypothesized path: %d' % (np.sum(pE.np_path_array['obj'] > score) + 1)\n",
    "HTML(pathstring_to_table(pE.true_path))"
   ]
  },
  {
   "cell_type": "markdown",
   "metadata": {},
   "source": [
    "##Entropy by position"
   ]
  },
  {
   "cell_type": "code",
   "execution_count": 7,
   "metadata": {
    "collapsed": false
   },
   "outputs": [
    {
     "name": "stdout",
     "output_type": "stream",
     "text": [
      "Mean Entropy: 1.212\n",
      "Mean Interaction Weight: 0.006\n",
      "Mean Ranks over Position: 1.083\n",
      "  Components appearing at position: 12.0\n"
     ]
    }
   ],
   "source": [
    "pE.evaluate_accuracy_precision()"
   ]
  },
  {
   "cell_type": "markdown",
   "metadata": {},
   "source": [
    "##Rank of substrate and product to their corresponding enzyme"
   ]
  },
  {
   "cell_type": "code",
   "execution_count": 8,
   "metadata": {
    "collapsed": false
   },
   "outputs": [
    {
     "data": {
      "text/html": [
       "<table><tr>\n",
       "                        <th>Enzyme</th>\n",
       "                        <th>Substrate rank from individual docking run</th>\n",
       "                        <th>Product rank from individual docking run</th>\n",
       "                        <th>Substrate rank by integrated approach</th>\n",
       "                        <th>Product rank by integrated approach</th>\n",
       "                        <th>Interaction rank by integrated approach</th>\n",
       "                        </tr><tr><td>1</td>\n",
       "                                 <td>1752</td>\n",
       "                                 <td>1114</td>\n",
       "                                 <td>1</td>\n",
       "                                 <td>1</td>\n",
       "                                 <td>1</td>\n",
       "                             </tr><tr><td>2</td>\n",
       "                                 <td>2976</td>\n",
       "                                 <td>3378</td>\n",
       "                                 <td>1</td>\n",
       "                                 <td>1</td>\n",
       "                                 <td>2</td>\n",
       "                             </tr><tr><td>3</td>\n",
       "                                 <td>387</td>\n",
       "                                 <td>55</td>\n",
       "                                 <td>1</td>\n",
       "                                 <td>1</td>\n",
       "                                 <td>1</td>\n",
       "                             </tr><tr><td>4</td>\n",
       "                                 <td>1187</td>\n",
       "                                 <td>3540</td>\n",
       "                                 <td>1</td>\n",
       "                                 <td>1</td>\n",
       "                                 <td>1</td>\n",
       "                             </tr><tr><td>5</td>\n",
       "                                 <td>33</td>\n",
       "                                 <td>7</td>\n",
       "                                 <td>1</td>\n",
       "                                 <td>1</td>\n",
       "                                 <td>2</td>\n",
       "                             </tr></table>"
      ],
      "text/plain": [
       "<IPython.core.display.HTML object>"
      ]
     },
     "execution_count": 8,
     "metadata": {},
     "output_type": "execute_result"
    }
   ],
   "source": [
    "HTML(pE.ligand_rankings_html(startposition=1))"
   ]
  },
  {
   "cell_type": "markdown",
   "metadata": {},
   "source": [
    "##Frequency of enzymes occurring in pathway model ensemble at every position"
   ]
  },
  {
   "cell_type": "code",
   "execution_count": 9,
   "metadata": {
    "collapsed": false
   },
   "outputs": [
    {
     "data": {
      "text/html": [
       "<strong>Columns: Enzyme, Rows: Position</strong><table border=\"1\" class=\"dataframe\">\n",
       "  <thead>\n",
       "    <tr style=\"text-align: right;\">\n",
       "      <th></th>\n",
       "      <th>0</th>\n",
       "      <th>1</th>\n",
       "      <th>2</th>\n",
       "      <th>3</th>\n",
       "      <th>4</th>\n",
       "      <th>5</th>\n",
       "    </tr>\n",
       "  </thead>\n",
       "  <tbody>\n",
       "    <tr>\n",
       "      <th>1</th>\n",
       "      <td>100.0</td>\n",
       "      <td> 0.0</td>\n",
       "      <td> 0.0</td>\n",
       "      <td> 0.0</td>\n",
       "      <td> 0.0</td>\n",
       "      <td> 0.0</td>\n",
       "    </tr>\n",
       "    <tr>\n",
       "      <th>2</th>\n",
       "      <td>  0.0</td>\n",
       "      <td>61.0</td>\n",
       "      <td> 1.9</td>\n",
       "      <td>37.0</td>\n",
       "      <td> 0.0</td>\n",
       "      <td> 0.0</td>\n",
       "    </tr>\n",
       "    <tr>\n",
       "      <th>3</th>\n",
       "      <td>  0.0</td>\n",
       "      <td> 2.6</td>\n",
       "      <td>70.1</td>\n",
       "      <td> 0.0</td>\n",
       "      <td>16.9</td>\n",
       "      <td>10.4</td>\n",
       "    </tr>\n",
       "    <tr>\n",
       "      <th>4</th>\n",
       "      <td>  0.0</td>\n",
       "      <td> 0.0</td>\n",
       "      <td>11.7</td>\n",
       "      <td>61.7</td>\n",
       "      <td>13.6</td>\n",
       "      <td>13.0</td>\n",
       "    </tr>\n",
       "    <tr>\n",
       "      <th>5</th>\n",
       "      <td>  0.0</td>\n",
       "      <td> 0.0</td>\n",
       "      <td>16.2</td>\n",
       "      <td> 1.3</td>\n",
       "      <td>64.9</td>\n",
       "      <td>17.5</td>\n",
       "    </tr>\n",
       "    <tr>\n",
       "      <th>6</th>\n",
       "      <td>  0.0</td>\n",
       "      <td>36.4</td>\n",
       "      <td> 0.0</td>\n",
       "      <td> 0.0</td>\n",
       "      <td> 4.5</td>\n",
       "      <td>59.1</td>\n",
       "    </tr>\n",
       "  </tbody>\n",
       "</table>"
      ],
      "text/plain": [
       "<IPython.core.display.HTML object>"
      ]
     },
     "execution_count": 9,
     "metadata": {},
     "output_type": "execute_result"
    }
   ],
   "source": [
    "HTML(pE.enzyme_pos_html())"
   ]
  },
  {
   "cell_type": "markdown",
   "metadata": {},
   "source": [
    "##Accuracy by position"
   ]
  },
  {
   "cell_type": "code",
   "execution_count": 10,
   "metadata": {
    "collapsed": false
   },
   "outputs": [
    {
     "data": {
      "text/html": [
       "<table class=\"results\"><tr><th class=\"correct\" colspan=\"13\">Correct Pathway</th></tr><tr><td class=\"correct\"><div class=\"container\"><div id=\"ZINC03869787\" class=\"ligand\"></div>\n",
       "                                 <img src='http://zinc.docking.org/img/sub/3869787.gif' alt='ZINC03869787'/></div>\n",
       "                                 </td><td class=\"correct\" id=\"E0\"><div class=\"enzyme\">0</div></td><td class=\"correct\"><div class=\"container\"><div id=\"ZINC04095492\" class=\"ligand\"></div>\n",
       "                                 <img src='http://zinc.docking.org/img/sub/4095492.gif' alt='ZINC04095492'/></div>\n",
       "                                 </td><td class=\"correct\" id=\"E1\"><div class=\"enzyme\">1</div></td><td class=\"correct\"><div class=\"container\"><div id=\"ZINC02040884\" class=\"ligand\"></div>\n",
       "                                 <img src='http://zinc.docking.org/img/sub/2040884.gif' alt='ZINC02040884'/></div>\n",
       "                                 </td><td class=\"correct\" id=\"E2\"><div class=\"enzyme\">2</div></td><td class=\"correct\"><div class=\"container\"><div id=\"ZINC01532568\" class=\"ligand\"></div>\n",
       "                                 <img src='http://zinc.docking.org/img/sub/1532568.gif' alt='ZINC01532568'/></div>\n",
       "                                 </td><td class=\"correct\" id=\"E3\"><div class=\"enzyme\">3</div></td><td class=\"correct\"><div class=\"container\"><div id=\"ZINC01529165\" class=\"ligand\"></div>\n",
       "                                 <img src='http://zinc.docking.org/img/sub/1529165.gif' alt='ZINC01529165'/></div>\n",
       "                                 </td><td class=\"correct\" id=\"E4\"><div class=\"enzyme\">4</div></td><td class=\"correct\"><div class=\"container\"><div id=\"ZINC03869936\" class=\"ligand\"></div>\n",
       "                                 <img src='http://zinc.docking.org/img/sub/3869936.gif' alt='ZINC03869936'/></div>\n",
       "                                 </td><td class=\"correct\" id=\"E5\"><div class=\"enzyme\">5</div></td></tr><th colspan=\"13\">Predicted Pathways</th><tr><td><div class=\"container match\"><div class=\"ligand\" id=\"ZINC03869787\"></div><img src='http://zinc.docking.org/img/sub/3869787.gif' alt='ZINC03869787'/></div></td><td><div class=\"enzyme match\" id=\"E0\">0</div></td><td><div class=\"container\"><div id=\"ZINC01532568\" class=\"ligand\"></div><img src='http://zinc.docking.org/img/sub/1532568.gif' alt='ZINC01532568'/></div></td><td><div class=\"enzyme match\" id=\"E1\">1</div></td><td><div class=\"container match\"><div class=\"ligand\" id=\"ZINC02040884\"></div><img src='http://zinc.docking.org/img/sub/2040884.gif' alt='ZINC02040884'/></div></td><td><div class=\"enzyme match\" id=\"E2\">2</div></td><td><div class=\"container match\"><div class=\"ligand\" id=\"ZINC01532568\"></div><img src='http://zinc.docking.org/img/sub/1532568.gif' alt='ZINC01532568'/></div></td><td><div class=\"enzyme match\" id=\"E3\">3</div></td><td><div class=\"container match\"><div class=\"ligand\" id=\"ZINC01529165\"></div><img src='http://zinc.docking.org/img/sub/1529165.gif' alt='ZINC01529165'/></div></td><td><div class=\"enzyme match\" id=\"E4\">4</div></td><td><div class=\"container match\"><div class=\"ligand\" id=\"ZINC03869936\"></div><img src='http://zinc.docking.org/img/sub/3869936.gif' alt='ZINC03869936'/></div></td><td><div class=\"enzyme match\" id=\"E5\">5</div></td></tr><tr><td><div class=\"container\"><div id=\"ZINC02040884\" class=\"ligand\"></div><img src='http://zinc.docking.org/img/sub/2040884.gif' alt='ZINC02040884'/></div></td><td></td><td><div class=\"container match\"><div class=\"ligand\" id=\"ZINC04095492\"></div><img src='http://zinc.docking.org/img/sub/4095492.gif' alt='ZINC04095492'/></div></td><td><div class=\"enzyme\">3</div></td><td><div class=\"container\"><div id=\"ZINC01529165\" class=\"ligand\"></div><img src='http://zinc.docking.org/img/sub/1529165.gif' alt='ZINC01529165'/></div></td><td><div class=\"enzyme\">4</div></td><td><div class=\"container\"><div id=\"ZINC03869936\" class=\"ligand\"></div><img src='http://zinc.docking.org/img/sub/3869936.gif' alt='ZINC03869936'/></div></td><td><div class=\"enzyme\">4</div></td><td><div class=\"container\"><div id=\"ZINC05410049\" class=\"ligand\"></div><img src='http://zinc.docking.org/img/sub/5410049.gif' alt='ZINC05410049'/></div></td><td><div class=\"enzyme\">5</div></td><td><div class=\"container\"><div id=\"ZINC32786787\" class=\"ligand\"></div><img src='http://zinc.docking.org/img/sub/32786787.gif' alt='ZINC32786787'/></div></td><td><div class=\"enzyme\">1</div></td></tr><tr><td></td><td></td><td><div class=\"container\"><div id=\"ZINC04095493\" class=\"ligand\"></div><img src='http://zinc.docking.org/img/sub/4095493.gif' alt='ZINC04095493'/></div></td><td><div class=\"enzyme\">2</div></td><td><div class=\"container\"><div id=\"ZINC01529927\" class=\"ligand\"></div><img src='http://zinc.docking.org/img/sub/1529927.gif' alt='ZINC01529927'/></div></td><td><div class=\"enzyme\">5</div></td><td></td><td><div class=\"enzyme\">5</div></td><td><div class=\"container\"><div id=\"ZINC03830895\" class=\"ligand\"></div><img src='http://zinc.docking.org/img/sub/3830895.gif' alt='ZINC03830895'/></div></td><td><div class=\"enzyme\">2</div></td><td><div class=\"container\"><div id=\"ZINC01532517\" class=\"ligand\"></div><img src='http://zinc.docking.org/img/sub/1532517.gif' alt='ZINC01532517'/></div></td><td><div class=\"enzyme\">4</div></td></tr><tr><td></td><td></td><td></td><td></td><td><div class=\"container\"><div id=\"ZINC00895313\" class=\"ligand\"></div><img src='http://zinc.docking.org/img/sub/895313.gif' alt='ZINC00895313'/></div></td><td><div class=\"enzyme\">1</div></td><td></td><td><div class=\"enzyme\">2</div></td><td></td><td><div class=\"enzyme\">3</div></td><td><div class=\"container\"><div id=\"ZINC03869934\" class=\"ligand\"></div><img src='http://zinc.docking.org/img/sub/3869934.gif' alt='ZINC03869934'/></div></td><td></td></tr></table>\n",
       "                        <style type=\"text/css\">\n",
       "                        .match {\n",
       "                            font-size: 1.5em;\n",
       "                            //font-weight: bold\n",
       "                        }\n",
       "                        table.results, .results td, .results th {\n",
       "                            border: 1px solid gray\n",
       "                        }\n",
       "                        .results th {\n",
       "                            padding: 5px;\n",
       "                            font-size: 1.5em\n",
       "                        }\n",
       "                        table.results {\n",
       "                            border-collapse: collapse;\n",
       "                            font-family: \"Helvetica\"\n",
       "                        }\n",
       "                        table.results >> td {\n",
       "                            height: 100px;\n",
       "                            width: auto;\n",
       "                            padding: 0;\n",
       "                            margin: 0;\n",
       "                            text-align: center;\n",
       "                            vertical-align: middle;\n",
       "                        }\n",
       "                        div.enzyme {\n",
       "                            text-align: center;\n",
       "                            font-size: 1.5em;\n",
       "                            padding-left: .8em;\n",
       "                            padding-right: .8em;\n",
       "                            //border: 2px hidden black;\n",
       "                        }\n",
       "                        div.ligand {\n",
       "                            opacity: 0.4;\n",
       "                            top:0;\n",
       "                            width: 100%;\n",
       "                            height: 100%;\n",
       "                            position: absolute;\n",
       "                            border-radius: 15px;\n",
       "                            z-index: 0\n",
       "                        }\n",
       "                        div.container {\n",
       "                            //text-align: center;\n",
       "                            height: 100%;\n",
       "                            width: auto;\n",
       "                            position:relative\n",
       "                        }\n",
       "                        .results img {\n",
       "                            height: 100px;\n",
       "                            width: auto;\n",
       "                            border-radius: 15px\n",
       "                            \n",
       "                        }\n",
       "                        </style><style type=\"text/css\">\n",
       "                #ZINC03869787 {\n",
       "                    background-color: #e50000\n",
       "                }\n",
       "                \n",
       "                #ZINC04095492 {\n",
       "                    background-color: #e5da00\n",
       "                }\n",
       "                \n",
       "                #ZINC02040884 {\n",
       "                    background-color: #16e500\n",
       "                }\n",
       "                \n",
       "                #ZINC01532568 {\n",
       "                    background-color: #00e5c3\n",
       "                }\n",
       "                \n",
       "                #ZINC01529165 {\n",
       "                    background-color: #002de5\n",
       "                }\n",
       "                \n",
       "                #ZINC03869936 {\n",
       "                    background-color: #ac00e5\n",
       "                }\n",
       "                </style>"
      ],
      "text/plain": [
       "<IPython.core.display.HTML object>"
      ]
     },
     "execution_count": 10,
     "metadata": {},
     "output_type": "execute_result"
    }
   ],
   "source": [
    "HTML(pE.get_html_table(percent_cutoff=.05, enz_percent_cutoff=0.15, urlstring_to_image='http://zinc.docking.org/img/sub/%s.gif'))"
   ]
  },
  {
   "cell_type": "code",
   "execution_count": 12,
   "metadata": {
    "collapsed": false
   },
   "outputs": [
    {
     "data": {
      "image/png": "[encoded data removed]",
      "text/plain": [
       "<matplotlib.figure.Figure at 0x7fdbbe7a9c90>"
      ]
     },
     "metadata": {},
     "output_type": "display_data"
    }
   ],
   "source": [
    "pE.plot_convergence_by_runs(run_increment=25)"
   ]
  },
  {
   "cell_type": "code",
   "execution_count": 13,
   "metadata": {
    "collapsed": false
   },
   "outputs": [
    {
     "name": "stdout",
     "output_type": "stream",
     "text": [
      "0 -> ZINC03869787 -> 1 -> ZINC04095492 -> 2 -> ZINC02040884 -> 3 -> ZINC01532568 -> 4 -> ZINC01529165 -> 5 -> ZINC03869936\n",
      "0 -> ZINC02040884 -> 3 -> ZINC01532568 -> 5 -> ZINC00895313 -> 2 -> ZINC00895048 -> 4 -> ZINC03830895 -> 1 -> ZINC03869936\n",
      "0 -> ZINC03869787 -> 1 -> ZINC04095492 -> 2 -> ZINC02040884 -> 3 -> ZINC01532568 -> 5 -> ZINC00895313 -> 4 -> ZINC03869936\n",
      "0 -> ZINC02040884 -> 3 -> ZINC01532568 -> 4 -> ZINC01529165 -> 5 -> ZINC24492326 -> 2 -> ZINC05410049 -> 1 -> ZINC03869936\n",
      "0 -> ZINC02040884 -> 3 -> ZINC01532568 -> 4 -> ZINC01529165 -> 5 -> ZINC30724348 -> 2 -> ZINC00895264 -> 1 -> ZINC01532521\n",
      "0 -> ZINC02040884 -> 3 -> ZINC01532568 -> 2 -> ZINC01529927 -> 4 -> ZINC01529644 -> 5 -> ZINC05410049 -> 1 -> ZINC03869936\n",
      "0 -> ZINC02040884 -> 3 -> ZINC01532568 -> 5 -> ZINC00901286 -> 4 -> ZINC24492326 -> 2 -> ZINC05410049 -> 1 -> ZINC03869936\n",
      "0 -> ZINC02040884 -> 3 -> ZINC01532568 -> 4 -> ZINC03581111 -> 2 -> ZINC01529644 -> 5 -> ZINC05410049 -> 1 -> ZINC03869936\n",
      "0 -> ZINC03869787 -> 1 -> ZINC04095492 -> 4 -> ZINC04095493 -> 2 -> ZINC02040884 -> 3 -> ZINC01532568 -> 5 -> ZINC01532517\n",
      "0 -> ZINC02040884 -> 3 -> ZINC01532568 -> 1 -> ZINC01529842 -> 2 -> ZINC01532569 -> 4 -> ZINC01529166 -> 5 -> ZINC03869936\n",
      "0 -> ZINC02040884 -> 3 -> ZINC01532568 -> 5 -> ZINC30724348 -> 2 -> ZINC01532558 -> 4 -> ZINC03869279 -> 1 -> ZINC03869934\n",
      "0 -> ZINC02040884 -> 3 -> ZINC01532568 -> 4 -> ZINC18140538 -> 2 -> ZINC03869812 -> 5 -> ZINC03581111 -> 1 -> ZINC32786787\n"
     ]
    },
    {
     "data": {
      "text/html": [
       "<table><tr><td style=\"font-size:1.5em\"><strong>Hypothesized</strong></td><td style=\"padding: 15px\"><strong>0</strong></td><td><img src='http://zinc.docking.org/img/sub/3869787.gif' alt='ZINC03869787'/></td><td style=\"padding: 15px\"><strong>1</strong></td><td><img src='http://zinc.docking.org/img/sub/4095492.gif' alt='ZINC04095492'/></td><td style=\"padding: 15px\"><strong>2</strong></td><td><img src='http://zinc.docking.org/img/sub/2040884.gif' alt='ZINC02040884'/></td><td style=\"padding: 15px\"><strong>3</strong></td><td><img src='http://zinc.docking.org/img/sub/1532568.gif' alt='ZINC01532568'/></td><td style=\"padding: 15px\"><strong>4</strong></td><td><img src='http://zinc.docking.org/img/sub/1529165.gif' alt='ZINC01529165'/></td><td style=\"padding: 15px\"><strong>5</strong></td><td><img src='http://zinc.docking.org/img/sub/3869936.gif' alt='ZINC03869936'/></td></tr><tr><td style=\"font-size:1.5em\"><strong>11\tScore=53.17\t(N=88)</strong></td><td style=\"padding: 15px\"><strong>0</strong></td><td><img src='http://zinc.docking.org/img/sub/3869787.gif' alt='ZINC03869787'/></td><td style=\"padding: 15px\"><strong>1</strong></td><td><img src='http://zinc.docking.org/img/sub/4095492.gif' alt='ZINC04095492'/></td><td style=\"padding: 15px\"><strong>2</strong></td><td><img src='http://zinc.docking.org/img/sub/2040884.gif' alt='ZINC02040884'/></td><td style=\"padding: 15px\"><strong>3</strong></td><td><img src='http://zinc.docking.org/img/sub/1532568.gif' alt='ZINC01532568'/></td><td style=\"padding: 15px\"><strong>4</strong></td><td><img src='http://zinc.docking.org/img/sub/1529165.gif' alt='ZINC01529165'/></td><td style=\"padding: 15px\"><strong>5</strong></td><td><img src='http://zinc.docking.org/img/sub/3869936.gif' alt='ZINC03869936'/></td></tr><tr><td style=\"font-size:1.5em\"><strong>7\tScore=52.75\t(N=9)</strong></td><td style=\"padding: 15px\"><strong>0</strong></td><td><img src='http://zinc.docking.org/img/sub/2040884.gif' alt='ZINC02040884'/></td><td style=\"padding: 15px\"><strong>3</strong></td><td><img src='http://zinc.docking.org/img/sub/1532568.gif' alt='ZINC01532568'/></td><td style=\"padding: 15px\"><strong>5</strong></td><td><img src='http://zinc.docking.org/img/sub/895313.gif' alt='ZINC00895313'/></td><td style=\"padding: 15px\"><strong>2</strong></td><td><img src='http://zinc.docking.org/img/sub/895048.gif' alt='ZINC00895048'/></td><td style=\"padding: 15px\"><strong>4</strong></td><td><img src='http://zinc.docking.org/img/sub/3830895.gif' alt='ZINC03830895'/></td><td style=\"padding: 15px\"><strong>1</strong></td><td><img src='http://zinc.docking.org/img/sub/3869936.gif' alt='ZINC03869936'/></td></tr><tr><td style=\"font-size:1.5em\"><strong>12\tScore=52.65\t(N=7)</strong></td><td style=\"padding: 15px\"><strong>0</strong></td><td><img src='http://zinc.docking.org/img/sub/3869787.gif' alt='ZINC03869787'/></td><td style=\"padding: 15px\"><strong>1</strong></td><td><img src='http://zinc.docking.org/img/sub/4095492.gif' alt='ZINC04095492'/></td><td style=\"padding: 15px\"><strong>2</strong></td><td><img src='http://zinc.docking.org/img/sub/2040884.gif' alt='ZINC02040884'/></td><td style=\"padding: 15px\"><strong>3</strong></td><td><img src='http://zinc.docking.org/img/sub/1532568.gif' alt='ZINC01532568'/></td><td style=\"padding: 15px\"><strong>5</strong></td><td><img src='http://zinc.docking.org/img/sub/895313.gif' alt='ZINC00895313'/></td><td style=\"padding: 15px\"><strong>4</strong></td><td><img src='http://zinc.docking.org/img/sub/3869936.gif' alt='ZINC03869936'/></td></tr><tr><td style=\"font-size:1.5em\"><strong>5\tScore=51.30\t(N=12)</strong></td><td style=\"padding: 15px\"><strong>0</strong></td><td><img src='http://zinc.docking.org/img/sub/2040884.gif' alt='ZINC02040884'/></td><td style=\"padding: 15px\"><strong>3</strong></td><td><img src='http://zinc.docking.org/img/sub/1532568.gif' alt='ZINC01532568'/></td><td style=\"padding: 15px\"><strong>4</strong></td><td><img src='http://zinc.docking.org/img/sub/1529165.gif' alt='ZINC01529165'/></td><td style=\"padding: 15px\"><strong>5</strong></td><td><img src='http://zinc.docking.org/img/sub/24492326.gif' alt='ZINC24492326'/></td><td style=\"padding: 15px\"><strong>2</strong></td><td><img src='http://zinc.docking.org/img/sub/5410049.gif' alt='ZINC05410049'/></td><td style=\"padding: 15px\"><strong>1</strong></td><td><img src='http://zinc.docking.org/img/sub/3869936.gif' alt='ZINC03869936'/></td></tr><tr><td style=\"font-size:1.5em\"><strong>3\tScore=51.26\t(N=8)</strong></td><td style=\"padding: 15px\"><strong>0</strong></td><td><img src='http://zinc.docking.org/img/sub/2040884.gif' alt='ZINC02040884'/></td><td style=\"padding: 15px\"><strong>3</strong></td><td><img src='http://zinc.docking.org/img/sub/1532568.gif' alt='ZINC01532568'/></td><td style=\"padding: 15px\"><strong>4</strong></td><td><img src='http://zinc.docking.org/img/sub/1529165.gif' alt='ZINC01529165'/></td><td style=\"padding: 15px\"><strong>5</strong></td><td><img src='http://zinc.docking.org/img/sub/30724348.gif' alt='ZINC30724348'/></td><td style=\"padding: 15px\"><strong>2</strong></td><td><img src='http://zinc.docking.org/img/sub/895264.gif' alt='ZINC00895264'/></td><td style=\"padding: 15px\"><strong>1</strong></td><td><img src='http://zinc.docking.org/img/sub/1532521.gif' alt='ZINC01532521'/></td></tr><tr><td style=\"font-size:1.5em\"><strong>2\tScore=51.17\t(N=16)</strong></td><td style=\"padding: 15px\"><strong>0</strong></td><td><img src='http://zinc.docking.org/img/sub/2040884.gif' alt='ZINC02040884'/></td><td style=\"padding: 15px\"><strong>3</strong></td><td><img src='http://zinc.docking.org/img/sub/1532568.gif' alt='ZINC01532568'/></td><td style=\"padding: 15px\"><strong>2</strong></td><td><img src='http://zinc.docking.org/img/sub/1529927.gif' alt='ZINC01529927'/></td><td style=\"padding: 15px\"><strong>4</strong></td><td><img src='http://zinc.docking.org/img/sub/1529644.gif' alt='ZINC01529644'/></td><td style=\"padding: 15px\"><strong>5</strong></td><td><img src='http://zinc.docking.org/img/sub/5410049.gif' alt='ZINC05410049'/></td><td style=\"padding: 15px\"><strong>1</strong></td><td><img src='http://zinc.docking.org/img/sub/3869936.gif' alt='ZINC03869936'/></td></tr><tr><td style=\"font-size:1.5em\"><strong>6\tScore=51.10\t(N=5)</strong></td><td style=\"padding: 15px\"><strong>0</strong></td><td><img src='http://zinc.docking.org/img/sub/2040884.gif' alt='ZINC02040884'/></td><td style=\"padding: 15px\"><strong>3</strong></td><td><img src='http://zinc.docking.org/img/sub/1532568.gif' alt='ZINC01532568'/></td><td style=\"padding: 15px\"><strong>5</strong></td><td><img src='http://zinc.docking.org/img/sub/901286.gif' alt='ZINC00901286'/></td><td style=\"padding: 15px\"><strong>4</strong></td><td><img src='http://zinc.docking.org/img/sub/24492326.gif' alt='ZINC24492326'/></td><td style=\"padding: 15px\"><strong>2</strong></td><td><img src='http://zinc.docking.org/img/sub/5410049.gif' alt='ZINC05410049'/></td><td style=\"padding: 15px\"><strong>1</strong></td><td><img src='http://zinc.docking.org/img/sub/3869936.gif' alt='ZINC03869936'/></td></tr><tr><td style=\"font-size:1.5em\"><strong>4\tScore=50.72\t(N=3)</strong></td><td style=\"padding: 15px\"><strong>0</strong></td><td><img src='http://zinc.docking.org/img/sub/2040884.gif' alt='ZINC02040884'/></td><td style=\"padding: 15px\"><strong>3</strong></td><td><img src='http://zinc.docking.org/img/sub/1532568.gif' alt='ZINC01532568'/></td><td style=\"padding: 15px\"><strong>4</strong></td><td><img src='http://zinc.docking.org/img/sub/3581111.gif' alt='ZINC03581111'/></td><td style=\"padding: 15px\"><strong>2</strong></td><td><img src='http://zinc.docking.org/img/sub/1529644.gif' alt='ZINC01529644'/></td><td style=\"padding: 15px\"><strong>5</strong></td><td><img src='http://zinc.docking.org/img/sub/5410049.gif' alt='ZINC05410049'/></td><td style=\"padding: 15px\"><strong>1</strong></td><td><img src='http://zinc.docking.org/img/sub/3869936.gif' alt='ZINC03869936'/></td></tr><tr><td style=\"font-size:1.5em\"><strong>10\tScore=50.72\t(N=2)</strong></td><td style=\"padding: 15px\"><strong>0</strong></td><td><img src='http://zinc.docking.org/img/sub/3869787.gif' alt='ZINC03869787'/></td><td style=\"padding: 15px\"><strong>1</strong></td><td><img src='http://zinc.docking.org/img/sub/4095492.gif' alt='ZINC04095492'/></td><td style=\"padding: 15px\"><strong>4</strong></td><td><img src='http://zinc.docking.org/img/sub/4095493.gif' alt='ZINC04095493'/></td><td style=\"padding: 15px\"><strong>2</strong></td><td><img src='http://zinc.docking.org/img/sub/2040884.gif' alt='ZINC02040884'/></td><td style=\"padding: 15px\"><strong>3</strong></td><td><img src='http://zinc.docking.org/img/sub/1532568.gif' alt='ZINC01532568'/></td><td style=\"padding: 15px\"><strong>5</strong></td><td><img src='http://zinc.docking.org/img/sub/1532517.gif' alt='ZINC01532517'/></td></tr><tr><td style=\"font-size:1.5em\"><strong>9\tScore=50.70\t(N=1)</strong></td><td style=\"padding: 15px\"><strong>0</strong></td><td><img src='http://zinc.docking.org/img/sub/2040884.gif' alt='ZINC02040884'/></td><td style=\"padding: 15px\"><strong>3</strong></td><td><img src='http://zinc.docking.org/img/sub/1532568.gif' alt='ZINC01532568'/></td><td style=\"padding: 15px\"><strong>1</strong></td><td><img src='http://zinc.docking.org/img/sub/1529842.gif' alt='ZINC01529842'/></td><td style=\"padding: 15px\"><strong>2</strong></td><td><img src='http://zinc.docking.org/img/sub/1532569.gif' alt='ZINC01532569'/></td><td style=\"padding: 15px\"><strong>4</strong></td><td><img src='http://zinc.docking.org/img/sub/1529166.gif' alt='ZINC01529166'/></td><td style=\"padding: 15px\"><strong>5</strong></td><td><img src='http://zinc.docking.org/img/sub/3869936.gif' alt='ZINC03869936'/></td></tr><tr><td style=\"font-size:1.5em\"><strong>1\tScore=50.60\t(N=2)</strong></td><td style=\"padding: 15px\"><strong>0</strong></td><td><img src='http://zinc.docking.org/img/sub/2040884.gif' alt='ZINC02040884'/></td><td style=\"padding: 15px\"><strong>3</strong></td><td><img src='http://zinc.docking.org/img/sub/1532568.gif' alt='ZINC01532568'/></td><td style=\"padding: 15px\"><strong>5</strong></td><td><img src='http://zinc.docking.org/img/sub/30724348.gif' alt='ZINC30724348'/></td><td style=\"padding: 15px\"><strong>2</strong></td><td><img src='http://zinc.docking.org/img/sub/1532558.gif' alt='ZINC01532558'/></td><td style=\"padding: 15px\"><strong>4</strong></td><td><img src='http://zinc.docking.org/img/sub/3869279.gif' alt='ZINC03869279'/></td><td style=\"padding: 15px\"><strong>1</strong></td><td><img src='http://zinc.docking.org/img/sub/3869934.gif' alt='ZINC03869934'/></td></tr><tr><td style=\"font-size:1.5em\"><strong>8\tScore=50.55\t(N=1)</strong></td><td style=\"padding: 15px\"><strong>0</strong></td><td><img src='http://zinc.docking.org/img/sub/2040884.gif' alt='ZINC02040884'/></td><td style=\"padding: 15px\"><strong>3</strong></td><td><img src='http://zinc.docking.org/img/sub/1532568.gif' alt='ZINC01532568'/></td><td style=\"padding: 15px\"><strong>4</strong></td><td><img src='http://zinc.docking.org/img/sub/18140538.gif' alt='ZINC18140538'/></td><td style=\"padding: 15px\"><strong>2</strong></td><td><img src='http://zinc.docking.org/img/sub/3869812.gif' alt='ZINC03869812'/></td><td style=\"padding: 15px\"><strong>5</strong></td><td><img src='http://zinc.docking.org/img/sub/3581111.gif' alt='ZINC03581111'/></td><td style=\"padding: 15px\"><strong>1</strong></td><td><img src='http://zinc.docking.org/img/sub/32786787.gif' alt='ZINC32786787'/></td></tr></table>"
      ],
      "text/plain": [
       "<IPython.core.display.HTML object>"
      ]
     },
     "execution_count": 13,
     "metadata": {},
     "output_type": "execute_result"
    }
   ],
   "source": [
    "from collections import Counter\n",
    "dtype = [('cluster', int), ('count', int), ('bestscore', np.float32)]\n",
    "x = Counter(pE.flatclusters)\n",
    "scs = []\n",
    "for clnum in x.keys():\n",
    "    clusterarray = pE.np_path_array[pE.flatclusters==clnum]\n",
    "    scs.append(clusterarray['obj'].max())\n",
    "a = np.array(zip(x.keys(), x.values(), scs), dtype=dtype)\n",
    "aso = np.sort(a, order='bestscore')\n",
    "\n",
    "htmlpathtables ='<table>%s' % pathstring_to_table(pE.true_path, title='Hypothesized')\n",
    "for clnum in aso['cluster'][::-1]:\n",
    "    clusterarray = pE.np_path_array[pE.flatclusters==clnum]\n",
    "    idx = clusterarray['obj'].argmax()\n",
    "    score = clusterarray['obj'].max()\n",
    "    title = '%d\\tScore=%.2f\\t(N=%d)' % (clnum, score, len(clusterarray))\n",
    "    htmlpathtables += pathstring_to_table(clusterarray['strrepr'][idx], title=title)\n",
    "    print clusterarray['strrepr'][idx]\n",
    "htmlpathtables += '</table>'\n",
    "HTML(htmlpathtables)"
   ]
  }
 ],
 "metadata": {
  "kernelspec": {
   "display_name": "Python 2",
   "language": "python",
   "name": "python2"
  },
  "language_info": {
   "codemirror_mode": {
    "name": "ipython",
    "version": 2
   },
   "file_extension": ".py",
   "mimetype": "text/x-python",
   "name": "python",
   "nbconvert_exporter": "python",
   "pygments_lexer": "ipython2",
   "version": "2.7.12"
  }
 },
 "nbformat": 4,
 "nbformat_minor": 0
}
